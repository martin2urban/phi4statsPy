{
 "cells": [
  {
   "cell_type": "code",
   "execution_count": 1,
   "metadata": {
    "collapsed": true,
    "ExecuteTime": {
     "end_time": "2023-11-24T13:57:57.289273Z",
     "start_time": "2023-11-24T13:57:56.578064400Z"
    }
   },
   "outputs": [],
   "source": [
    "import pandas as pd"
   ]
  },
  {
   "cell_type": "code",
   "execution_count": 2,
   "outputs": [
    {
     "data": {
      "text/plain": "PhiAcc              object\nProtId              object\nPathSpeciesTaxID    object\nPathSpecies         object\ndtype: object"
     },
     "execution_count": 2,
     "metadata": {},
     "output_type": "execute_result"
    }
   ],
   "source": [
    "url =\"https://raw.githubusercontent.com/martin2urban/pythonProject1/master/phiSlim30cols.csv\"\n",
    "columns= ['PhiAcc', 'ProtId', 'PathSpecies', 'PathSpeciesTaxID']\n",
    "my_types = {\n",
    "    \"PhiAcc\": str,\n",
    "#   \"ProtId\": str,\n",
    "#   \"PathSpecies\": str,\n",
    "#  \"PathSpeciesTaxID\": int,\n",
    "\n",
    "}\n",
    "phi = pd.read_csv(\n",
    "    \"phiSlim30cols.csv\",\n",
    "    usecols=columns,\n",
    "#    dtype=my_types,\n",
    "    header=0,\n",
    ")\n",
    "phi.dtypes"
   ],
   "metadata": {
    "collapsed": false,
    "ExecuteTime": {
     "end_time": "2023-11-24T13:57:57.426314400Z",
     "start_time": "2023-11-24T13:57:57.289273Z"
    }
   }
  },
  {
   "cell_type": "code",
   "execution_count": 3,
   "outputs": [
    {
     "data": {
      "text/plain": "PhiAcc              object\nProtId              object\nPathSpeciesTaxID    object\nPathSpecies         object\ndtype: object"
     },
     "execution_count": 3,
     "metadata": {},
     "output_type": "execute_result"
    }
   ],
   "source": [
    "phi['ProtId'] = phi['ProtId'].astype(str)\n",
    "phi.dtypes"
   ],
   "metadata": {
    "collapsed": false,
    "ExecuteTime": {
     "end_time": "2023-11-24T13:57:57.446870800Z",
     "start_time": "2023-11-24T13:57:57.426314400Z"
    }
   }
  },
  {
   "cell_type": "code",
   "execution_count": 4,
   "outputs": [
    {
     "ename": "NameError",
     "evalue": "name 'phi3' is not defined",
     "output_type": "error",
     "traceback": [
      "\u001B[1;31m---------------------------------------------------------------------------\u001B[0m",
      "\u001B[1;31mNameError\u001B[0m                                 Traceback (most recent call last)",
      "Cell \u001B[1;32mIn[4], line 1\u001B[0m\n\u001B[1;32m----> 1\u001B[0m df\u001B[38;5;241m=\u001B[39m\u001B[43mphi3\u001B[49m\u001B[38;5;241m.\u001B[39mcopy()\n",
      "\u001B[1;31mNameError\u001B[0m: name 'phi3' is not defined"
     ]
    }
   ],
   "source": [
    "df=phi3.copy()"
   ],
   "metadata": {
    "collapsed": false,
    "ExecuteTime": {
     "end_time": "2023-11-24T13:57:58.019024100Z",
     "start_time": "2023-11-24T13:57:57.446870800Z"
    }
   }
  },
  {
   "cell_type": "code",
   "execution_count": null,
   "outputs": [],
   "source": [
    "unique_data_types = df['ProtId'].apply(type).unique()\n",
    "print(unique_data_types)\n",
    "\n"
   ],
   "metadata": {
    "collapsed": false
   }
  },
  {
   "cell_type": "code",
   "execution_count": null,
   "outputs": [],
   "source": [
    "df.describe(include='all')"
   ],
   "metadata": {
    "collapsed": false
   }
  },
  {
   "cell_type": "code",
   "execution_count": null,
   "outputs": [],
   "source": [
    "df.info()"
   ],
   "metadata": {
    "collapsed": false
   }
  },
  {
   "cell_type": "code",
   "execution_count": null,
   "outputs": [],
   "source": [
    "# this is a normal python dict mapping column names to data types\n",
    "my_types = {\n",
    "    \"PhiAcc\": \"string\",\n",
    "    \"ProtId\": \"string\",\n",
    "    \"PathSpeciesTaxID\": \"string\"\n",
    "}\n",
    "columns= ['PhiAcc', 'ProtId','PathSpeciesTaxID']\n",
    "\n",
    "phi4 = pd.read_csv(\"phiSlim30cols.csv\", dtype=my_types, header=0, skiprows=0,encoding='latin-1', usecols=columns)\n",
    "phi4.dtypes"
   ],
   "metadata": {
    "collapsed": false
   }
  },
  {
   "cell_type": "code",
   "execution_count": null,
   "outputs": [],
   "source": [
    "phi4.describe()\n"
   ],
   "metadata": {
    "collapsed": false
   }
  },
  {
   "cell_type": "code",
   "execution_count": null,
   "outputs": [],
   "source": [
    "import numpy as np\n",
    "is_integer = phi4['PathSpeciesTaxID'].dtype in [int, np.int64]\n",
    "#is_integer\n",
    "\n",
    "non_integer_values = phi4[pd.to_numeric(phi4['PathSpeciesTaxID'], errors='coerce').isna()]\n",
    "\n",
    "# Print the non-integer values\n",
    "for value in non_integer_values:\n",
    "    print(value)"
   ],
   "metadata": {
    "collapsed": false
   }
  },
  {
   "cell_type": "code",
   "execution_count": null,
   "outputs": [],
   "source": [
    "phi4[pd.to_numeric(phi4['PathSpeciesTaxID'], errors='coerce').isna()]"
   ],
   "metadata": {
    "collapsed": false
   }
  },
  {
   "cell_type": "code",
   "execution_count": null,
   "outputs": [],
   "source": [],
   "metadata": {
    "collapsed": false
   }
  }
 ],
 "metadata": {
  "kernelspec": {
   "display_name": "Python 3",
   "language": "python",
   "name": "python3"
  },
  "language_info": {
   "codemirror_mode": {
    "name": "ipython",
    "version": 2
   },
   "file_extension": ".py",
   "mimetype": "text/x-python",
   "name": "python",
   "nbconvert_exporter": "python",
   "pygments_lexer": "ipython2",
   "version": "2.7.6"
  }
 },
 "nbformat": 4,
 "nbformat_minor": 0
}
