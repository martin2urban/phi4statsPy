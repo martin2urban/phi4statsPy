{
 "cells": [
  {
   "cell_type": "markdown",
   "source": [
    "# Module imports\n"
   ],
   "metadata": {
    "collapsed": false
   }
  },
  {
   "cell_type": "code",
   "execution_count": 1,
   "outputs": [],
   "source": [
    "import pandas as pd\n",
    "import numpy as np\n",
    "import matplotlib.pyplot as plt\n",
    "import seaborn as sns\n",
    "import string\n",
    "import re\n",
    "from datetime import datetime"
   ],
   "metadata": {
    "collapsed": false,
    "ExecuteTime": {
     "end_time": "2023-11-28T19:51:26.048505400Z",
     "start_time": "2023-11-28T19:51:25.851881600Z"
    }
   }
  },
  {
   "cell_type": "markdown",
   "source": [
    "# Functions\n"
   ],
   "metadata": {
    "collapsed": false
   }
  },
  {
   "cell_type": "code",
   "execution_count": 2,
   "outputs": [],
   "source": [
    "def prepend_date(filename):\n",
    "    today = pd.Timestamp.today().strftime('%Y-%m-%d')\n",
    "    return today + '_' + filename"
   ],
   "metadata": {
    "collapsed": false,
    "ExecuteTime": {
     "end_time": "2023-11-28T19:51:26.135986900Z",
     "start_time": "2023-11-28T19:51:25.884782Z"
    }
   }
  },
  {
   "cell_type": "markdown",
   "source": [
    "# TASKS:\n",
    "0.  set hostspeciesTaxID to integer\n",
    "2. How to trim string entries to <92 characters?\n",
    "3. How to look up data from csv/excel file and merge them into dataframe? (for Header file and PHI-species file)\n",
    "4. How to report data for certain years or releases? Can you visually display that and how?\n",
    "\n",
    "\n",
    "\n"
   ],
   "metadata": {
    "collapsed": false
   }
  },
  {
   "cell_type": "markdown",
   "source": [
    "# Code"
   ],
   "metadata": {
    "collapsed": false
   }
  },
  {
   "cell_type": "markdown",
   "source": [
    "## Load data file and format columns"
   ],
   "metadata": {
    "collapsed": false
   }
  },
  {
   "cell_type": "code",
   "execution_count": 3,
   "outputs": [
    {
     "name": "stdout",
     "output_type": "stream",
     "text": [
      "<class 'pandas.core.frame.DataFrame'>\n",
      "RangeIndex: 21674 entries, 0 to 21673\n",
      "Data columns (total 9 columns):\n",
      " #   Column            Non-Null Count  Dtype         \n",
      "---  ------            --------------  -----         \n",
      " 0   PhiAcc            21674 non-null  string        \n",
      " 1   ProtId            21674 non-null  string        \n",
      " 2   PathSpeciesTaxID  21674 non-null  int32         \n",
      " 3   PathSpecies       21674 non-null  string        \n",
      " 4   DiseaseName       21375 non-null  string        \n",
      " 5   HostSpeciesTaxId  21674 non-null  string        \n",
      " 6   Phenotype         21674 non-null  category      \n",
      " 7   Literature_Id     21674 non-null  int32         \n",
      " 8   Year_published    21354 non-null  datetime64[ns]\n",
      "dtypes: category(1), datetime64[ns](1), int32(2), string(5)\n",
      "memory usage: 1.2 MB\n"
     ]
    }
   ],
   "source": [
    "#Read complete data sets:  phiSlim: the complete data set with 30 columns\n",
    "url = 'https://raw.githubusercontent.com/martin2urban/phi4statsPy/main/phiSlim30cols.csv'\n",
    "column_names= ['PhiAcc', 'ProtId', 'PathSpecies', 'PathSpeciesTaxID', 'Phenotype', 'Literature_Id', 'Year_published', 'HostSpeciesTaxId', 'DiseaseName']\n",
    "my_types = {\n",
    "    \"PhiAcc\": \"string\",\n",
    "    \"ProtId\": \"string\",\n",
    "    \"PathSpecies\": \"string\",\n",
    "    \"PathSpeciesTaxID\": \"string\",\n",
    "    \"Phenotype\": \"string\",\n",
    "    \"Literature_Id\": \"string\",\n",
    "    \"Year_published\": \"string\",\n",
    "    \"HostSpeciesTaxId\": \"string\",\n",
    "    \"DiseaseName\": \"string\",    #does not convert yet from object to string\n",
    "}\n",
    "\n",
    "phiSlim = pd.read_csv(\n",
    "    url,\n",
    "    usecols=column_names,\n",
    "    dtype=my_types,\n",
    "    header=0,\n",
    "    skiprows=[1],\n",
    ")\n",
    "phiSlim['Year_published'] = pd.to_datetime(phiSlim['Year_published'], format='%Y')    #conver year_published to datetime, function from numpy\n",
    "phiSlim['PathSpeciesTaxID'] = phiSlim['PathSpeciesTaxID'].astype(str).str.strip()\n",
    "phiSlim['PathSpeciesTaxID'] = pd.to_numeric(phiSlim['PathSpeciesTaxID'], errors='coerce', downcast='integer') #to numeric replace non-convertible\n",
    "phiSlim['Literature_Id'] = phiSlim['Literature_Id'].astype(str).str.strip()\n",
    "phiSlim['Literature_Id'] = pd.to_numeric(phiSlim['Literature_Id'], errors='coerce', downcast='integer') #to numeric replace non-convertible with NaN\n",
    "phiSlim['Literature_Id'] = phiSlim['Literature_Id'].fillna(0).astype(int) #replace NaN with 0, to allow int 32 data type\n",
    "phiSlim['Phenotype'] = phiSlim['Phenotype'].astype('category')\n",
    "phiSlim.info()\n",
    "#phiSlim.to_csv(('phiSlim.csv'), index=False)\n"
   ],
   "metadata": {
    "collapsed": false,
    "ExecuteTime": {
     "end_time": "2023-11-28T19:51:33.268924300Z",
     "start_time": "2023-11-28T19:51:25.958496100Z"
    }
   }
  },
  {
   "cell_type": "markdown",
   "source": [
    "# Make stats-counts reports and save to files"
   ],
   "metadata": {
    "collapsed": false,
    "ExecuteTime": {
     "end_time": "2023-11-27T13:43:06.705106300Z",
     "start_time": "2023-11-27T13:43:06.447714400Z"
    }
   },
   "outputs": [
    {
     "name": "stdout",
     "output_type": "stream",
     "text": [
      "<class 'pandas.core.frame.DataFrame'>\n",
      "RangeIndex: 21675 entries, 0 to 21674\n",
      "Data columns (total 8 columns):\n",
      " #   Column            Non-Null Count  Dtype         \n",
      "---  ------            --------------  -----         \n",
      " 0   PhiAcc            21675 non-null  object        \n",
      " 1   ProtId            21675 non-null  object        \n",
      " 2   PathSpeciesTaxID  21675 non-null  object        \n",
      " 3   PathSpecies       21675 non-null  object        \n",
      " 4   HostSpeciesTaxId  21675 non-null  object        \n",
      " 5   Phenotype         21675 non-null  object        \n",
      " 6   Literature_Id     21615 non-null  object        \n",
      " 7   Year_published    21355 non-null  datetime64[ns]\n",
      "dtypes: datetime64[ns](1), object(7)\n",
      "memory usage: 1.3+ MB\n"
     ]
    }
   ],
   "execution_count": 5
  },
  {
   "cell_type": "code",
   "execution_count": 4,
   "outputs": [
    {
     "data": {
      "text/plain": "              index      0\n0            PhiAcc  21674\n1       PathSpecies    293\n2            ProtId   9664\n3  HostSpeciesTaxId    243\n4     Literature_Id   5298\n5       DiseaseName    546",
      "text/html": "<div>\n<style scoped>\n    .dataframe tbody tr th:only-of-type {\n        vertical-align: middle;\n    }\n\n    .dataframe tbody tr th {\n        vertical-align: top;\n    }\n\n    .dataframe thead th {\n        text-align: right;\n    }\n</style>\n<table border=\"1\" class=\"dataframe\">\n  <thead>\n    <tr style=\"text-align: right;\">\n      <th></th>\n      <th>index</th>\n      <th>0</th>\n    </tr>\n  </thead>\n  <tbody>\n    <tr>\n      <th>0</th>\n      <td>PhiAcc</td>\n      <td>21674</td>\n    </tr>\n    <tr>\n      <th>1</th>\n      <td>PathSpecies</td>\n      <td>293</td>\n    </tr>\n    <tr>\n      <th>2</th>\n      <td>ProtId</td>\n      <td>9664</td>\n    </tr>\n    <tr>\n      <th>3</th>\n      <td>HostSpeciesTaxId</td>\n      <td>243</td>\n    </tr>\n    <tr>\n      <th>4</th>\n      <td>Literature_Id</td>\n      <td>5298</td>\n    </tr>\n    <tr>\n      <th>5</th>\n      <td>DiseaseName</td>\n      <td>546</td>\n    </tr>\n  </tbody>\n</table>\n</div>"
     },
     "execution_count": 4,
     "metadata": {},
     "output_type": "execute_result"
    }
   ],
   "source": [
    "#  Make global stats counts for phiSlim\n",
    "column_names = ['PhiAcc', 'PathSpecies', 'ProtId', 'HostSpeciesTaxId', 'Literature_Id', 'DiseaseName']\n",
    "aggregations = {'PhiAcc': 'count', 'PathSpecies': 'nunique', 'ProtId': 'nunique', 'HostSpeciesTaxId': 'nunique', 'Literature_Id': 'nunique', 'DiseaseName': 'nunique'}\n",
    "global_data = phiSlim[column_names].agg(aggregations).reset_index()\n",
    "global_data    #needs write statement"
   ],
   "metadata": {
    "collapsed": false,
    "ExecuteTime": {
     "end_time": "2023-11-28T19:51:33.346461Z",
     "start_time": "2023-11-28T19:51:33.267921Z"
    }
   }
  },
  {
   "cell_type": "code",
   "execution_count": 5,
   "outputs": [
    {
     "data": {
      "text/plain": "              genus  Species\n0          fusarium       12\n1    colletotrichum       11\n2     streptococcus       10\n3       pseudomonas        9\n4       xanthomonas        9\n..              ...      ...\n147    helicobacter        1\n148      grosmannia        1\n149    glaesserella        1\n150  gaeumannomyces        1\n151    zymoseptoria        1\n\n[152 rows x 2 columns]",
      "text/html": "<div>\n<style scoped>\n    .dataframe tbody tr th:only-of-type {\n        vertical-align: middle;\n    }\n\n    .dataframe tbody tr th {\n        vertical-align: top;\n    }\n\n    .dataframe thead th {\n        text-align: right;\n    }\n</style>\n<table border=\"1\" class=\"dataframe\">\n  <thead>\n    <tr style=\"text-align: right;\">\n      <th></th>\n      <th>genus</th>\n      <th>Species</th>\n    </tr>\n  </thead>\n  <tbody>\n    <tr>\n      <th>0</th>\n      <td>fusarium</td>\n      <td>12</td>\n    </tr>\n    <tr>\n      <th>1</th>\n      <td>colletotrichum</td>\n      <td>11</td>\n    </tr>\n    <tr>\n      <th>2</th>\n      <td>streptococcus</td>\n      <td>10</td>\n    </tr>\n    <tr>\n      <th>3</th>\n      <td>pseudomonas</td>\n      <td>9</td>\n    </tr>\n    <tr>\n      <th>4</th>\n      <td>xanthomonas</td>\n      <td>9</td>\n    </tr>\n    <tr>\n      <th>...</th>\n      <td>...</td>\n      <td>...</td>\n    </tr>\n    <tr>\n      <th>147</th>\n      <td>helicobacter</td>\n      <td>1</td>\n    </tr>\n    <tr>\n      <th>148</th>\n      <td>grosmannia</td>\n      <td>1</td>\n    </tr>\n    <tr>\n      <th>149</th>\n      <td>glaesserella</td>\n      <td>1</td>\n    </tr>\n    <tr>\n      <th>150</th>\n      <td>gaeumannomyces</td>\n      <td>1</td>\n    </tr>\n    <tr>\n      <th>151</th>\n      <td>zymoseptoria</td>\n      <td>1</td>\n    </tr>\n  </tbody>\n</table>\n<p>152 rows × 2 columns</p>\n</div>"
     },
     "execution_count": 5,
     "metadata": {},
     "output_type": "execute_result"
    }
   ],
   "source": [
    "from IPython.core.interactiveshell import InteractiveShell     #dipslay all outputs from this cell\n",
    "InteractiveShell.ast_node_interactivity = 'all'               #dipslay all outputs from this cell\n",
    "\n",
    "# make stats-counts report\n",
    "# 1==================================================================\n",
    "# tabulate tally: species x genes x interactions\n",
    "# Group by 'PathSpecies' and calculate distinct 'PhiAcc' count and count of rows\n",
    "data = phiSlim.groupby('PathSpecies').agg({'PhiAcc': 'nunique', 'PathSpecies': 'size'}).rename(columns={'PhiAcc': 'genes', 'PathSpecies': 'PHI.base.accession'}).reset_index()\n",
    "# Sort the DataFrame by 'PHI.base.accession' in descending order\n",
    "data = data.sort_values('PHI.base.accession', ascending=False)\n",
    "data = data.rename(columns={'PHI.base.accession': 'interactions'})  # Rename 'PHI.base.accession' column to 'interactions'\n",
    "data.reset_index(drop=True) # Reset index and drop the old index column\n",
    "data.to_csv(prepend_date('phiSlim_speciesBYpathogen_geneBYinteraction_tally.csv'), index=False)   #write dataframe to csv\n",
    "# 2==================================================================\n",
    "# Report number of species per genus\n",
    "# Split data \"species name\n",
    "data2 = data['PathSpecies'].str.split(' ', expand=True).rename(columns={0: 'genus', 1: 'species'})\n",
    "data2 = data2.iloc[:, [0, 1]]\n",
    "# Group by genus and count distinct species\n",
    "data3 = data2.groupby('genus').agg(Species=('species', 'nunique')).reset_index()\n",
    "# Sort by descending species count\n",
    "data3 = data3.sort_values('Species', ascending=False)\n",
    "data3.reset_index(drop=True)  #drop = True drops the current index and resets the index to start at 0\n",
    "# Write to CSV\n",
    "#data3.to_csv(pd.Timestamp.today().strftime('%Y-%m-%d') +'_phiSlim_genus_no_Species.csv', index=False)"
   ],
   "metadata": {
    "collapsed": false,
    "ExecuteTime": {
     "end_time": "2023-11-28T19:51:33.476602900Z",
     "start_time": "2023-11-28T19:51:33.316809900Z"
    }
   }
  },
  {
   "cell_type": "code",
   "execution_count": 6,
   "outputs": [
    {
     "data": {
      "text/plain": "               Tally-All-PathSpecies    n\n1            acinetobacter baumannii  294\n2         acinetobacter nosocomialis   36\n3    actinobacillus pleuropneumoniae   33\n4               aeromonas hydrophila   16\n5              aeromonas salmonicida    5\n..                               ...  ...\n289          yersinia enterocolitica   16\n290                  yersinia pestis   90\n291      yersinia pseudotuberculosis   49\n292                 yersinia ruckeri    3\n293             zymoseptoria tritici   99\n\n[293 rows x 2 columns]",
      "text/html": "<div>\n<style scoped>\n    .dataframe tbody tr th:only-of-type {\n        vertical-align: middle;\n    }\n\n    .dataframe tbody tr th {\n        vertical-align: top;\n    }\n\n    .dataframe thead th {\n        text-align: right;\n    }\n</style>\n<table border=\"1\" class=\"dataframe\">\n  <thead>\n    <tr style=\"text-align: right;\">\n      <th></th>\n      <th>Tally-All-PathSpecies</th>\n      <th>n</th>\n    </tr>\n  </thead>\n  <tbody>\n    <tr>\n      <th>1</th>\n      <td>acinetobacter baumannii</td>\n      <td>294</td>\n    </tr>\n    <tr>\n      <th>2</th>\n      <td>acinetobacter nosocomialis</td>\n      <td>36</td>\n    </tr>\n    <tr>\n      <th>3</th>\n      <td>actinobacillus pleuropneumoniae</td>\n      <td>33</td>\n    </tr>\n    <tr>\n      <th>4</th>\n      <td>aeromonas hydrophila</td>\n      <td>16</td>\n    </tr>\n    <tr>\n      <th>5</th>\n      <td>aeromonas salmonicida</td>\n      <td>5</td>\n    </tr>\n    <tr>\n      <th>...</th>\n      <td>...</td>\n      <td>...</td>\n    </tr>\n    <tr>\n      <th>289</th>\n      <td>yersinia enterocolitica</td>\n      <td>16</td>\n    </tr>\n    <tr>\n      <th>290</th>\n      <td>yersinia pestis</td>\n      <td>90</td>\n    </tr>\n    <tr>\n      <th>291</th>\n      <td>yersinia pseudotuberculosis</td>\n      <td>49</td>\n    </tr>\n    <tr>\n      <th>292</th>\n      <td>yersinia ruckeri</td>\n      <td>3</td>\n    </tr>\n    <tr>\n      <th>293</th>\n      <td>zymoseptoria tritici</td>\n      <td>99</td>\n    </tr>\n  </tbody>\n</table>\n<p>293 rows × 2 columns</p>\n</div>"
     },
     "execution_count": 6,
     "metadata": {},
     "output_type": "execute_result"
    },
    {
     "data": {
      "text/plain": "             Top30-PathSpecies     n\n1         fusarium graminearum  1811\n2           magnaporthe oryzae  1602\n3          salmonella enterica  1214\n4       ralstonia solanacearum   935\n5             candida albicans   760\n6       pseudomonas aeruginosa   739\n7        staphylococcus aureus   656\n8             escherichia coli   641\n9           xanthomonas oryzae   626\n10           erwinia amylovora   549\n11            botrytis cinerea   549\n12     cryptococcus neoformans   483\n13       aspergillus fumigatus   464\n14             ustilago maydis   448\n15        pseudomonas syringae   439\n16          fusarium oxysporum   324\n17        verticillium dahliae   301\n18     acinetobacter baumannii   294\n19      xanthomonas campestris   284\n20           toxoplasma gondii   274\n21      listeria monocytogenes   266\n22          streptococcus suis   246\n23            candida glabrata   231\n24      streptococcus pyogenes   214\n25       klebsiella pneumoniae   210\n26    streptococcus pneumoniae   204\n27  mycobacterium tuberculosis   202\n28             vibrio cholerae   178\n29       enterococcus faecalis   177\n30          beauveria bassiana   170",
      "text/html": "<div>\n<style scoped>\n    .dataframe tbody tr th:only-of-type {\n        vertical-align: middle;\n    }\n\n    .dataframe tbody tr th {\n        vertical-align: top;\n    }\n\n    .dataframe thead th {\n        text-align: right;\n    }\n</style>\n<table border=\"1\" class=\"dataframe\">\n  <thead>\n    <tr style=\"text-align: right;\">\n      <th></th>\n      <th>Top30-PathSpecies</th>\n      <th>n</th>\n    </tr>\n  </thead>\n  <tbody>\n    <tr>\n      <th>1</th>\n      <td>fusarium graminearum</td>\n      <td>1811</td>\n    </tr>\n    <tr>\n      <th>2</th>\n      <td>magnaporthe oryzae</td>\n      <td>1602</td>\n    </tr>\n    <tr>\n      <th>3</th>\n      <td>salmonella enterica</td>\n      <td>1214</td>\n    </tr>\n    <tr>\n      <th>4</th>\n      <td>ralstonia solanacearum</td>\n      <td>935</td>\n    </tr>\n    <tr>\n      <th>5</th>\n      <td>candida albicans</td>\n      <td>760</td>\n    </tr>\n    <tr>\n      <th>6</th>\n      <td>pseudomonas aeruginosa</td>\n      <td>739</td>\n    </tr>\n    <tr>\n      <th>7</th>\n      <td>staphylococcus aureus</td>\n      <td>656</td>\n    </tr>\n    <tr>\n      <th>8</th>\n      <td>escherichia coli</td>\n      <td>641</td>\n    </tr>\n    <tr>\n      <th>9</th>\n      <td>xanthomonas oryzae</td>\n      <td>626</td>\n    </tr>\n    <tr>\n      <th>10</th>\n      <td>erwinia amylovora</td>\n      <td>549</td>\n    </tr>\n    <tr>\n      <th>11</th>\n      <td>botrytis cinerea</td>\n      <td>549</td>\n    </tr>\n    <tr>\n      <th>12</th>\n      <td>cryptococcus neoformans</td>\n      <td>483</td>\n    </tr>\n    <tr>\n      <th>13</th>\n      <td>aspergillus fumigatus</td>\n      <td>464</td>\n    </tr>\n    <tr>\n      <th>14</th>\n      <td>ustilago maydis</td>\n      <td>448</td>\n    </tr>\n    <tr>\n      <th>15</th>\n      <td>pseudomonas syringae</td>\n      <td>439</td>\n    </tr>\n    <tr>\n      <th>16</th>\n      <td>fusarium oxysporum</td>\n      <td>324</td>\n    </tr>\n    <tr>\n      <th>17</th>\n      <td>verticillium dahliae</td>\n      <td>301</td>\n    </tr>\n    <tr>\n      <th>18</th>\n      <td>acinetobacter baumannii</td>\n      <td>294</td>\n    </tr>\n    <tr>\n      <th>19</th>\n      <td>xanthomonas campestris</td>\n      <td>284</td>\n    </tr>\n    <tr>\n      <th>20</th>\n      <td>toxoplasma gondii</td>\n      <td>274</td>\n    </tr>\n    <tr>\n      <th>21</th>\n      <td>listeria monocytogenes</td>\n      <td>266</td>\n    </tr>\n    <tr>\n      <th>22</th>\n      <td>streptococcus suis</td>\n      <td>246</td>\n    </tr>\n    <tr>\n      <th>23</th>\n      <td>candida glabrata</td>\n      <td>231</td>\n    </tr>\n    <tr>\n      <th>24</th>\n      <td>streptococcus pyogenes</td>\n      <td>214</td>\n    </tr>\n    <tr>\n      <th>25</th>\n      <td>klebsiella pneumoniae</td>\n      <td>210</td>\n    </tr>\n    <tr>\n      <th>26</th>\n      <td>streptococcus pneumoniae</td>\n      <td>204</td>\n    </tr>\n    <tr>\n      <th>27</th>\n      <td>mycobacterium tuberculosis</td>\n      <td>202</td>\n    </tr>\n    <tr>\n      <th>28</th>\n      <td>vibrio cholerae</td>\n      <td>178</td>\n    </tr>\n    <tr>\n      <th>29</th>\n      <td>enterococcus faecalis</td>\n      <td>177</td>\n    </tr>\n    <tr>\n      <th>30</th>\n      <td>beauveria bassiana</td>\n      <td>170</td>\n    </tr>\n  </tbody>\n</table>\n</div>"
     },
     "execution_count": 6,
     "metadata": {},
     "output_type": "execute_result"
    }
   ],
   "source": [
    "#This code groups the phi DataFrame by the 'PathSpecies' column, counts the occurrences of each 'PathSpecies' value using size(), and then sorts the result in descending order using sort_values().\n",
    "tally = phiSlim.groupby('PathSpecies').size().reset_index(name='n')\n",
    "# Tally all pathogens and  interactions and save csv file: phi_tally_all_pathog&interact,csv\n",
    "tally.rename(columns={'PathSpecies': 'Tally-All-PathSpecies'}, inplace=True)\n",
    "tally.index = tally.index + 1\n",
    "tally\n",
    "tally.to_csv(prepend_date('phi_tally_all_pathog&interact.csv'))\n",
    "# Tally the top30 pathogens\n",
    "top30 = tally.sort_values(by='n', ascending=False).head(30).reset_index(drop=True)\n",
    "top30.rename(columns={'Tally-All-PathSpecies': 'Top30-PathSpecies'}, inplace=True)\n",
    "top30.index = top30.index + 1\n",
    "top30"
   ],
   "metadata": {
    "collapsed": false,
    "ExecuteTime": {
     "end_time": "2023-11-28T19:51:33.525738Z",
     "start_time": "2023-11-28T19:51:33.388606600Z"
    }
   }
  },
  {
   "cell_type": "markdown",
   "source": [
    "## Graphical data display"
   ],
   "metadata": {
    "collapsed": false
   }
  },
  {
   "cell_type": "code",
   "execution_count": 7,
   "outputs": [
    {
     "data": {
      "text/plain": "[<matplotlib.lines.Line2D at 0x17ab761b590>]"
     },
     "execution_count": 7,
     "metadata": {},
     "output_type": "execute_result"
    },
    {
     "data": {
      "text/plain": "Text(0.5, 0, 'Year_published')"
     },
     "execution_count": 7,
     "metadata": {},
     "output_type": "execute_result"
    },
    {
     "data": {
      "text/plain": "Text(0, 0.5, 'Number of Unique Literature_Ids')"
     },
     "execution_count": 7,
     "metadata": {},
     "output_type": "execute_result"
    },
    {
     "data": {
      "text/plain": "[<matplotlib.lines.Line2D at 0x17ab75e65d0>]"
     },
     "execution_count": 7,
     "metadata": {},
     "output_type": "execute_result"
    },
    {
     "data": {
      "text/plain": "Text(0, 0.5, 'Cumulative Sum of Literature_Ids')"
     },
     "execution_count": 7,
     "metadata": {},
     "output_type": "execute_result"
    },
    {
     "data": {
      "text/plain": "<matplotlib.legend.Legend at 0x17ab766f450>"
     },
     "execution_count": 7,
     "metadata": {},
     "output_type": "execute_result"
    },
    {
     "data": {
      "text/plain": "Text(0.5, 1.0, 'Number of Unique Literature_Ids and Cumulative Sum Over Year_published')"
     },
     "execution_count": 7,
     "metadata": {},
     "output_type": "execute_result"
    },
    {
     "data": {
      "text/plain": "<Figure size 1000x600 with 2 Axes>",
      "image/png": "[encoded data removed]"
     },
     "metadata": {},
     "output_type": "display_data"
    }
   ],
   "source": [
    "import matplotlib.pyplot as plt\n",
    "# Group by 'Year_published' and count unique 'Literature_Id'\n",
    "unique_literature_counts = phiSlim.groupby('Year_published')['Literature_Id'].nunique()\n",
    "# Calculate the cumulative sum of unique 'Literature_Id'\n",
    "cumulative_sum = unique_literature_counts.cumsum()\n",
    "# Plotting the line graph with two y-axes\n",
    "fig, ax1 = plt.subplots(figsize=(10, 6))\n",
    "# Plot the number of unique Literature_Ids on the first y-axis\n",
    "ax1.plot(unique_literature_counts.index, unique_literature_counts, marker='o', color='b', label='Unique Literature_Ids')\n",
    "ax1.set_xlabel('Year_published')\n",
    "ax1.set_ylabel('Number of Unique Literature_Ids', color='b')\n",
    "ax1.tick_params('y', colors='b')\n",
    "ax1.grid(True)\n",
    "# Create a second y-axis for the cumulative sum\n",
    "ax2 = ax1.twinx()\n",
    "ax2.plot(cumulative_sum.index, cumulative_sum, marker='s', color='r', label='Cumulative Sum')\n",
    "ax2.set_ylabel('Cumulative Sum of Literature_Ids', color='r')\n",
    "ax2.tick_params('y', colors='r')\n",
    "# Add legend\n",
    "lines, labels = ax1.get_legend_handles_labels()\n",
    "lines2, labels2 = ax2.get_legend_handles_labels()\n",
    "ax2.legend(lines + lines2, labels + labels2, loc='upper left')\n",
    "\n",
    "plt.title('Number of Unique Literature_Ids and Cumulative Sum Over Year_published')\n",
    "plt.show()\n"
   ],
   "metadata": {
    "collapsed": false,
    "ExecuteTime": {
     "end_time": "2023-11-28T19:51:36.080485800Z",
     "start_time": "2023-11-28T19:51:33.444306500Z"
    }
   }
  },
  {
   "cell_type": "code",
   "execution_count": 7,
   "outputs": [],
   "source": [],
   "metadata": {
    "collapsed": false,
    "ExecuteTime": {
     "end_time": "2023-11-28T19:51:36.081470900Z",
     "start_time": "2023-11-28T19:51:36.060313300Z"
    }
   }
  },
  {
   "cell_type": "code",
   "execution_count": 8,
   "outputs": [],
   "source": [
    "#STOP\n"
   ],
   "metadata": {
    "collapsed": false,
    "ExecuteTime": {
     "end_time": "2023-11-28T19:51:36.142669600Z",
     "start_time": "2023-11-28T19:51:36.070124700Z"
    }
   }
  },
  {
   "cell_type": "code",
   "execution_count": 9,
   "outputs": [],
   "source": [
    "# Snippets beneath this point"
   ],
   "metadata": {
    "collapsed": false,
    "ExecuteTime": {
     "end_time": "2023-11-28T19:51:36.144273400Z",
     "start_time": "2023-11-28T19:51:36.084469200Z"
    }
   }
  },
  {
   "cell_type": "code",
   "execution_count": 9,
   "outputs": [],
   "source": [],
   "metadata": {
    "collapsed": false,
    "ExecuteTime": {
     "end_time": "2023-11-28T19:51:36.144785900Z",
     "start_time": "2023-11-28T19:51:36.099855Z"
    }
   }
  }
 ],
 "metadata": {
  "kernelspec": {
   "display_name": "Python 3",
   "language": "python",
   "name": "python3"
  },
  "language_info": {
   "codemirror_mode": {
    "name": "ipython",
    "version": 2
   },
   "file_extension": ".py",
   "mimetype": "text/x-python",
   "name": "python",
   "nbconvert_exporter": "python",
   "pygments_lexer": "ipython2",
   "version": "2.7.6"
  }
 },
 "nbformat": 4,
 "nbformat_minor": 0
}
