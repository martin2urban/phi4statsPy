{
 "cells": [
  {
   "cell_type": "markdown",
   "source": [
    "# Module imports\n"
   ],
   "metadata": {
    "collapsed": false
   }
  },
  {
   "cell_type": "code",
   "execution_count": 1,
   "outputs": [],
   "source": [
    "import pandas as pd\n",
    "import numpy as np\n",
    "import matplotlib.pyplot as plt\n",
    "import seaborn as sns\n",
    "import string\n",
    "import re\n",
    "from datetime import datetime"
   ],
   "metadata": {
    "collapsed": false,
    "ExecuteTime": {
     "end_time": "2023-11-28T19:13:24.456953100Z",
     "start_time": "2023-11-28T19:13:24.234595300Z"
    }
   }
  },
  {
   "cell_type": "markdown",
   "source": [
    "# Functions\n"
   ],
   "metadata": {
    "collapsed": false
   }
  },
  {
   "cell_type": "code",
   "execution_count": 2,
   "outputs": [],
   "source": [
    "def prepend_date(filename):\n",
    "    today = pd.Timestamp.today().strftime('%Y-%m-%d')\n",
    "    return today + '_' + filename"
   ],
   "metadata": {
    "collapsed": false,
    "ExecuteTime": {
     "end_time": "2023-11-28T19:13:24.521147100Z",
     "start_time": "2023-11-28T19:13:24.265532600Z"
    }
   }
  },
  {
   "cell_type": "markdown",
   "source": [
    "# TASKS:\n",
    "0.  set hostspeciesTaxID to integer\n",
    "1. Are there 'no data found' or non-printable or non-ASCI characters in the loaded dataframe?\n",
    "2. How to trim string entries to <92 characters?\n",
    "3. How to look up data from csv/excel file and merge them into dataframe? (for Header file and PHI-species file)\n",
    "4. How to report data for certain years or releases? Can you visually display that and how?\n",
    "\n",
    "\n",
    "\n"
   ],
   "metadata": {
    "collapsed": false
   }
  },
  {
   "cell_type": "markdown",
   "source": [
    "# Code"
   ],
   "metadata": {
    "collapsed": false
   }
  },
  {
   "cell_type": "markdown",
   "source": [
    "## Load data file and format columns"
   ],
   "metadata": {
    "collapsed": false
   }
  },
  {
   "cell_type": "code",
   "execution_count": 3,
   "outputs": [
    {
     "name": "stdout",
     "output_type": "stream",
     "text": [
      "<class 'pandas.core.frame.DataFrame'>\n",
      "RangeIndex: 21674 entries, 0 to 21673\n",
      "Data columns (total 9 columns):\n",
      " #   Column            Non-Null Count  Dtype         \n",
      "---  ------            --------------  -----         \n",
      " 0   PhiAcc            21674 non-null  string        \n",
      " 1   ProtId            21674 non-null  string        \n",
      " 2   PathSpeciesTaxID  21674 non-null  int32         \n",
      " 3   PathSpecies       21674 non-null  string        \n",
      " 4   DiseaseName       21375 non-null  string        \n",
      " 5   HostSpeciesTaxId  21674 non-null  string        \n",
      " 6   Phenotype         21674 non-null  category      \n",
      " 7   Literature_Id     21674 non-null  int32         \n",
      " 8   Year_published    21354 non-null  datetime64[ns]\n",
      "dtypes: category(1), datetime64[ns](1), int32(2), string(5)\n",
      "memory usage: 1.2 MB\n"
     ]
    }
   ],
   "source": [
    "#Read complete data sets:  phiSlim: the complete data set with 30 columns\n",
    "url = 'https://raw.githubusercontent.com/martin2urban/phi4statsPy/main/phiSlim30cols.csv'\n",
    "column_names= ['PhiAcc', 'ProtId', 'PathSpecies', 'PathSpeciesTaxID', 'Phenotype', 'Literature_Id', 'Year_published', 'HostSpeciesTaxId', 'DiseaseName']\n",
    "my_types = {\n",
    "    \"PhiAcc\": \"string\",\n",
    "    \"ProtId\": \"string\",\n",
    "    \"PathSpecies\": \"string\",\n",
    "    \"PathSpeciesTaxID\": \"string\",\n",
    "    \"Phenotype\": \"string\",\n",
    "    \"Literature_Id\": \"string\",\n",
    "    \"Year_published\": \"string\",\n",
    "    \"HostSpeciesTaxId\": \"string\",\n",
    "    \"DiseaseName\": \"string\",    #does not convert yet from object to string\n",
    "}\n",
    "\n",
    "phiSlim = pd.read_csv(\n",
    "    url,\n",
    "    usecols=column_names,\n",
    "    dtype=my_types,\n",
    "    header=0,\n",
    "    skiprows=[1],\n",
    ")\n",
    "phiSlim['Year_published'] = pd.to_datetime(phiSlim['Year_published'], format='%Y')    #conver year_published to datetime, function from numpy\n",
    "phiSlim['PathSpeciesTaxID'] = phiSlim['PathSpeciesTaxID'].astype(str).str.strip()\n",
    "phiSlim['PathSpeciesTaxID'] = pd.to_numeric(phiSlim['PathSpeciesTaxID'], errors='coerce', downcast='integer') #to numeric replace non-convertible\n",
    "phiSlim['Literature_Id'] = phiSlim['Literature_Id'].astype(str).str.strip()\n",
    "phiSlim['Literature_Id'] = pd.to_numeric(phiSlim['Literature_Id'], errors='coerce', downcast='integer') #to numeric replace non-convertible with NaN\n",
    "phiSlim['Literature_Id'] = phiSlim['Literature_Id'].fillna(0).astype(int) #replace NaN with 0, to allow int 32 data type\n",
    "phiSlim['Phenotype'] = phiSlim['Phenotype'].astype('category')\n",
    "phiSlim.info()\n",
    "#phiSlim.to_csv(('phiSlim.csv'), index=False)\n"
   ],
   "metadata": {
    "collapsed": false,
    "ExecuteTime": {
     "end_time": "2023-11-28T19:13:32.275040800Z",
     "start_time": "2023-11-28T19:13:24.373333100Z"
    }
   }
  },
  {
   "cell_type": "markdown",
   "source": [
    "# Make stats-counts reports and save to files"
   ],
   "metadata": {
    "collapsed": false,
    "ExecuteTime": {
     "end_time": "2023-11-27T13:43:06.705106300Z",
     "start_time": "2023-11-27T13:43:06.447714400Z"
    }
   },
   "outputs": [
    {
     "name": "stdout",
     "output_type": "stream",
     "text": [
      "<class 'pandas.core.frame.DataFrame'>\n",
      "RangeIndex: 21675 entries, 0 to 21674\n",
      "Data columns (total 8 columns):\n",
      " #   Column            Non-Null Count  Dtype         \n",
      "---  ------            --------------  -----         \n",
      " 0   PhiAcc            21675 non-null  object        \n",
      " 1   ProtId            21675 non-null  object        \n",
      " 2   PathSpeciesTaxID  21675 non-null  object        \n",
      " 3   PathSpecies       21675 non-null  object        \n",
      " 4   HostSpeciesTaxId  21675 non-null  object        \n",
      " 5   Phenotype         21675 non-null  object        \n",
      " 6   Literature_Id     21615 non-null  object        \n",
      " 7   Year_published    21355 non-null  datetime64[ns]\n",
      "dtypes: datetime64[ns](1), object(7)\n",
      "memory usage: 1.3+ MB\n"
     ]
    }
   ],
   "execution_count": 5
  },
  {
   "cell_type": "code",
   "execution_count": 6,
   "outputs": [
    {
     "data": {
      "text/plain": "              index      0\n0            PhiAcc  21674\n1       PathSpecies    293\n2            ProtId   9664\n3  HostSpeciesTaxId    243\n4     Literature_Id   5298\n5       DiseaseName    546",
      "text/html": "<div>\n<style scoped>\n    .dataframe tbody tr th:only-of-type {\n        vertical-align: middle;\n    }\n\n    .dataframe tbody tr th {\n        vertical-align: top;\n    }\n\n    .dataframe thead th {\n        text-align: right;\n    }\n</style>\n<table border=\"1\" class=\"dataframe\">\n  <thead>\n    <tr style=\"text-align: right;\">\n      <th></th>\n      <th>index</th>\n      <th>0</th>\n    </tr>\n  </thead>\n  <tbody>\n    <tr>\n      <th>0</th>\n      <td>PhiAcc</td>\n      <td>21674</td>\n    </tr>\n    <tr>\n      <th>1</th>\n      <td>PathSpecies</td>\n      <td>293</td>\n    </tr>\n    <tr>\n      <th>2</th>\n      <td>ProtId</td>\n      <td>9664</td>\n    </tr>\n    <tr>\n      <th>3</th>\n      <td>HostSpeciesTaxId</td>\n      <td>243</td>\n    </tr>\n    <tr>\n      <th>4</th>\n      <td>Literature_Id</td>\n      <td>5298</td>\n    </tr>\n    <tr>\n      <th>5</th>\n      <td>DiseaseName</td>\n      <td>546</td>\n    </tr>\n  </tbody>\n</table>\n</div>"
     },
     "execution_count": 6,
     "metadata": {},
     "output_type": "execute_result"
    }
   ],
   "source": [
    "#  Make global stats counts for phiSlim\n",
    "column_names = ['PhiAcc', 'PathSpecies', 'ProtId', 'HostSpeciesTaxId', 'Literature_Id', 'DiseaseName']\n",
    "aggregations = {'PhiAcc': 'count', 'PathSpecies': 'nunique', 'ProtId': 'nunique', 'HostSpeciesTaxId': 'nunique', 'Literature_Id': 'nunique', 'DiseaseName': 'nunique'}\n",
    "global_data = phiSlim[column_names].agg(aggregations).reset_index()\n",
    "global_data    #needs write statement"
   ],
   "metadata": {
    "collapsed": false,
    "ExecuteTime": {
     "end_time": "2023-11-28T19:16:33.501326100Z",
     "start_time": "2023-11-28T19:16:33.454170300Z"
    }
   }
  },
  {
   "cell_type": "code",
   "execution_count": null,
   "outputs": [],
   "source": [
    "from IPython.core.interactiveshell import InteractiveShell     #dipslay all outputs from this cell\n",
    "InteractiveShell.ast_node_interactivity = 'all'               #dipslay all outputs from this cell\n",
    "\n",
    "# make stats-counts report\n",
    "# 1==================================================================\n",
    "# tabulate tally: species x genes x interactions\n",
    "# Group by 'PathSpecies' and calculate distinct 'PhiAcc' count and count of rows\n",
    "data = phiSlim.groupby('PathSpecies').agg({'PhiAcc': 'nunique', 'PathSpecies': 'size'}).rename(columns={'PhiAcc': 'genes', 'PathSpecies': 'PHI.base.accession'}).reset_index()\n",
    "# Sort the DataFrame by 'PHI.base.accession' in descending order\n",
    "data = data.sort_values('PHI.base.accession', ascending=False)\n",
    "data = data.rename(columns={'PHI.base.accession': 'interactions'})  # Rename 'PHI.base.accession' column to 'interactions'\n",
    "data.reset_index(drop=True) # Reset index and drop the old index column\n",
    "data.to_csv(prepend_date('phiSlim_speciesBYpathogen_geneBYinteraction_tally.csv'), index=False)   #write dataframe to csv\n",
    "# 2==================================================================\n",
    "# Report number of species per genus\n",
    "# Split data \"species name\n",
    "data2 = data['PathSpecies'].str.split(' ', expand=True).rename(columns={0: 'genus', 1: 'species'})\n",
    "data2 = data2.iloc[:, [0, 1]]\n",
    "# Group by genus and count distinct species\n",
    "data3 = data2.groupby('genus').agg(Species=('species', 'nunique')).reset_index()\n",
    "# Sort by descending species count\n",
    "data3 = data3.sort_values('Species', ascending=False)\n",
    "data3.reset_index(drop=True)  #drop = True drops the current index and resets the index to start at 0\n",
    "# Write to CSV\n",
    "#data3.to_csv(pd.Timestamp.today().strftime('%Y-%m-%d') +'_phiSlim_genus_no_Species.csv', index=False)"
   ],
   "metadata": {
    "collapsed": false
   }
  },
  {
   "cell_type": "code",
   "execution_count": null,
   "outputs": [],
   "source": [
    "#This code groups the phi DataFrame by the 'PathSpecies' column, counts the occurrences of each 'PathSpecies' value using size(), and then sorts the result in descending order using sort_values().\n",
    "tally = phiSlim.groupby('PathSpecies').size().reset_index(name='n')\n",
    "# Tally all pathogens and  interactions and save csv file: phi_tally_all_pathog&interact,csv\n",
    "tally.rename(columns={'PathSpecies': 'Tally-All-PathSpecies'}, inplace=True)\n",
    "tally.index = tally.index + 1\n",
    "tally\n",
    "tally.to_csv(prepend_date('phi_tally_all_pathog&interact.csv'))\n",
    "# Tally the top30 pathogens\n",
    "top30 = tally.sort_values(by='n', ascending=False).head(30).reset_index(drop=True)\n",
    "top30.rename(columns={'Tally-All-PathSpecies': 'Top30-PathSpecies'}, inplace=True)\n",
    "top30.index = top30.index + 1\n",
    "top30"
   ],
   "metadata": {
    "collapsed": false
   }
  },
  {
   "cell_type": "code",
   "execution_count": null,
   "outputs": [],
   "source": [
    "#STOP\n"
   ],
   "metadata": {
    "collapsed": false
   }
  },
  {
   "cell_type": "code",
   "execution_count": null,
   "outputs": [],
   "source": [
    "# Snippets beneath this point"
   ],
   "metadata": {
    "collapsed": false
   }
  },
  {
   "cell_type": "code",
   "execution_count": null,
   "outputs": [],
   "source": [],
   "metadata": {
    "collapsed": false
   }
  }
 ],
 "metadata": {
  "kernelspec": {
   "display_name": "Python 3",
   "language": "python",
   "name": "python3"
  },
  "language_info": {
   "codemirror_mode": {
    "name": "ipython",
    "version": 2
   },
   "file_extension": ".py",
   "mimetype": "text/x-python",
   "name": "python",
   "nbconvert_exporter": "python",
   "pygments_lexer": "ipython2",
   "version": "2.7.6"
  }
 },
 "nbformat": 4,
 "nbformat_minor": 0
}
