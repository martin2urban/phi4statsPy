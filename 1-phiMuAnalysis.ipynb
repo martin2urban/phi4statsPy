{
 "cells": [
  {
   "cell_type": "code",
   "execution_count": 22,
   "metadata": {
    "collapsed": true,
    "ExecuteTime": {
     "end_time": "2023-11-26T09:21:15.922883300Z",
     "start_time": "2023-11-26T09:21:15.902864600Z"
    }
   },
   "outputs": [],
   "source": [
    "import pandas as pd\n",
    "import numpy as np\n",
    "import matplotlib.pyplot as plt\n",
    "import seaborn as sns"
   ]
  },
  {
   "cell_type": "code",
   "execution_count": 30,
   "outputs": [
    {
     "name": "stdout",
     "output_type": "stream",
     "text": [
      "Index(['PhiAcc', 'ProtId', 'PathSpeciesTaxID', 'PathSpecies', 'Phenotype'], dtype='object')\n"
     ]
    },
    {
     "data": {
      "text/plain": "           PhiAcc  ProtId  PathSpeciesTaxID              PathSpecies Phenotype\n0           PHI:3  P26215              5017        Bipolaris zeicola       NaN\n1           PHI:7  P22287              5499             Fulvia fulva       NaN\n2          PHI:12  Q01886              5017        Bipolaris zeicola       NaN\n3          PHI:14  P0C017              5207  Cryptococcus neoformans       NaN\n4          PHI:14  P0C017              5207  Cryptococcus neoformans       NaN\n...           ...     ...               ...                      ...       ...\n20945  PHI:123548  G4MSA2            318829       Magnaporthe oryzae       NaN\n20946  PHI:123548  G4MSA2            318829       Magnaporthe oryzae       NaN\n20947  PHI:123549  G4MU94            318829       Magnaporthe oryzae       NaN\n20948  PHI:123550  G4NB68            318829       Magnaporthe oryzae       NaN\n20949  PHI:123551  A4QXV8            318829       Magnaporthe oryzae       NaN\n\n[20950 rows x 5 columns]",
      "text/html": "<div>\n<style scoped>\n    .dataframe tbody tr th:only-of-type {\n        vertical-align: middle;\n    }\n\n    .dataframe tbody tr th {\n        vertical-align: top;\n    }\n\n    .dataframe thead th {\n        text-align: right;\n    }\n</style>\n<table border=\"1\" class=\"dataframe\">\n  <thead>\n    <tr style=\"text-align: right;\">\n      <th></th>\n      <th>PhiAcc</th>\n      <th>ProtId</th>\n      <th>PathSpeciesTaxID</th>\n      <th>PathSpecies</th>\n      <th>Phenotype</th>\n    </tr>\n  </thead>\n  <tbody>\n    <tr>\n      <th>0</th>\n      <td>PHI:3</td>\n      <td>P26215</td>\n      <td>5017</td>\n      <td>Bipolaris zeicola</td>\n      <td>NaN</td>\n    </tr>\n    <tr>\n      <th>1</th>\n      <td>PHI:7</td>\n      <td>P22287</td>\n      <td>5499</td>\n      <td>Fulvia fulva</td>\n      <td>NaN</td>\n    </tr>\n    <tr>\n      <th>2</th>\n      <td>PHI:12</td>\n      <td>Q01886</td>\n      <td>5017</td>\n      <td>Bipolaris zeicola</td>\n      <td>NaN</td>\n    </tr>\n    <tr>\n      <th>3</th>\n      <td>PHI:14</td>\n      <td>P0C017</td>\n      <td>5207</td>\n      <td>Cryptococcus neoformans</td>\n      <td>NaN</td>\n    </tr>\n    <tr>\n      <th>4</th>\n      <td>PHI:14</td>\n      <td>P0C017</td>\n      <td>5207</td>\n      <td>Cryptococcus neoformans</td>\n      <td>NaN</td>\n    </tr>\n    <tr>\n      <th>...</th>\n      <td>...</td>\n      <td>...</td>\n      <td>...</td>\n      <td>...</td>\n      <td>...</td>\n    </tr>\n    <tr>\n      <th>20945</th>\n      <td>PHI:123548</td>\n      <td>G4MSA2</td>\n      <td>318829</td>\n      <td>Magnaporthe oryzae</td>\n      <td>NaN</td>\n    </tr>\n    <tr>\n      <th>20946</th>\n      <td>PHI:123548</td>\n      <td>G4MSA2</td>\n      <td>318829</td>\n      <td>Magnaporthe oryzae</td>\n      <td>NaN</td>\n    </tr>\n    <tr>\n      <th>20947</th>\n      <td>PHI:123549</td>\n      <td>G4MU94</td>\n      <td>318829</td>\n      <td>Magnaporthe oryzae</td>\n      <td>NaN</td>\n    </tr>\n    <tr>\n      <th>20948</th>\n      <td>PHI:123550</td>\n      <td>G4NB68</td>\n      <td>318829</td>\n      <td>Magnaporthe oryzae</td>\n      <td>NaN</td>\n    </tr>\n    <tr>\n      <th>20949</th>\n      <td>PHI:123551</td>\n      <td>A4QXV8</td>\n      <td>318829</td>\n      <td>Magnaporthe oryzae</td>\n      <td>NaN</td>\n    </tr>\n  </tbody>\n</table>\n<p>20950 rows × 5 columns</p>\n</div>"
     },
     "execution_count": 30,
     "metadata": {},
     "output_type": "execute_result"
    }
   ],
   "source": [
    "url = \"https://raw.githubusercontent.com/martin2urban/pythonProject1/master/phiSlim30cols.csv\"\n",
    "columns= ['PhiAcc', 'ProtId', 'PathSpecies', 'PathSpeciesTaxID', 'Phenotype']\n",
    "my_types = {\n",
    "    \"PhiAcc\": str,\n",
    "#   \"ProtId\": str,\n",
    "#   \"PathSpecies\": str,\n",
    "#  \"PathSpeciesTaxID\": int,\n",
    "\n",
    "}\n",
    "phi2 = pd.read_csv(\n",
    "    \"phiSlim30cols.csv\",\n",
    "    usecols=columns,\n",
    "#    dtype=my_types,\n",
    "    header=0,\n",
    "    skiprows=[1]\n",
    ")\n",
    "print(phi2.columns)\n",
    "phi2.describe(include='all')\n",
    "phi2"
   ],
   "metadata": {
    "collapsed": false,
    "ExecuteTime": {
     "end_time": "2023-11-26T09:25:16.080850500Z",
     "start_time": "2023-11-26T09:25:15.820797300Z"
    }
   }
  },
  {
   "cell_type": "code",
   "execution_count": null,
   "outputs": [],
   "source": [
    "#How do I convert the columns 'PhiAcc', 'ProtId', 'PathSpecies', 'PathSpeciesTaxID' to strings?\n",
    "#\n",
    "columns = ['PhiAcc', 'ProtId', 'PathSpecies', 'PathSpeciesTaxID']\n",
    "non_string_values_per_column = {}\n",
    "for column in phi2.columns:\n",
    "    non_string_values = set(phi2[column].astype(str).str.findall(r'[^a-zA-Z\\s\\d:]').sum())\n",
    "    non_string_values_per_column[column] = non_string_values\n",
    "\n",
    "for column, non_string_values in non_string_values_per_column.items():\n",
    "    print(f\"Non-string values in column '{column}':\")\n",
    "    for value in non_string_values:\n",
    "        print(value)\n",
    "    print()\n",
    "\n"
   ],
   "metadata": {
    "collapsed": false
   }
  },
  {
   "cell_type": "code",
   "execution_count": null,
   "outputs": [],
   "source": [
    "url = \"https://raw.githubusercontent.com/martin2urban/pythonProject1/master/phiSlim30cols.csv\"\n",
    "columns= ['PhiAcc', 'ProtId', 'PathSpecies', 'PathSpeciesTaxID']\n",
    "my_types = {\n",
    "    \"PhiAcc\": str,\n",
    "#   \"ProtId\": str,\n",
    "#   \"PathSpecies\": str,\n",
    "#  \"PathSpeciesTaxID\": int,\n",
    "\n",
    "}\n",
    "phi2 = pd.read_csv(\n",
    "    \"phiSlim30cols.csv\",\n",
    "    usecols=columns,\n",
    "#    dtype=my_types,\n",
    "    header=0,\n",
    ")"
   ],
   "metadata": {
    "collapsed": false
   }
  },
  {
   "cell_type": "code",
   "execution_count": null,
   "outputs": [],
   "source": [
    "phiSlim = pd.read_csv('phiSlim30cols.csv', header=0)\n",
    "phiSlim.describe()"
   ],
   "metadata": {
    "collapsed": false
   }
  },
  {
   "cell_type": "code",
   "execution_count": null,
   "outputs": [],
   "source": [
    "# tranform all string data in phiSlim to lowercase\n",
    "phiSlim = phiSlim.applymap(lambda x: x.lower() if isinstance(x, str) else x)\n",
    "phiSlim\n"
   ],
   "metadata": {
    "collapsed": false
   }
  },
  {
   "cell_type": "code",
   "execution_count": null,
   "outputs": [],
   "source": [
    "# make stats-counts report\n",
    "# tabulate tally: specis x genes x interactions\n",
    "# Group by 'PathSpecies' and calculate distinct 'PhiAcc' count and count of rows\n",
    "data = phiSlim.groupby('PathSpecies').agg({'PhiAcc': 'nunique', 'PathSpecies': 'size'}).rename(columns={'PhiAcc': 'genes', 'PathSpecies': 'PHI.base.accession'}).reset_index()\n",
    "\n",
    "# Sort the DataFrame by 'PHI.base.accession' in descending order\n",
    "data = data.sort_values('PHI.base.accession', ascending=False)\n",
    "\n",
    "# Rename 'PHI.base.accession' column to 'interactions'\n",
    "data = data.rename(columns={'PHI.base.accession': 'interactions'})\n",
    "\n",
    "# Write the DataFrame to a CSV file\n",
    "data.to_csv(pd.Timestamp.today().strftime('%Y-%m-%d') +\"phiSlim_speciesBYpathogen_geneBYinteraction_tally.csv\", index=False, na_rep=\"\")\n"
   ],
   "metadata": {
    "collapsed": false
   }
  },
  {
   "cell_type": "code",
   "execution_count": null,
   "outputs": [],
   "source": [
    "data.info()"
   ],
   "metadata": {
    "collapsed": false
   }
  },
  {
   "cell_type": "code",
   "execution_count": null,
   "outputs": [],
   "source": [
    "data2\n"
   ],
   "metadata": {
    "collapsed": false
   }
  },
  {
   "cell_type": "code",
   "execution_count": null,
   "outputs": [],
   "source": [
    "# tabulate tally: genus x genes x interactions\n",
    "# Split data \"species name\n",
    "data2 = data['PathSpecies'].str.split(' ', expand=True).rename(columns={0: 'genus', 1: 'species'})\n",
    "data2 = data2.iloc[:, [0, 1]]\n",
    "# Group by genus and count distinct species\n",
    "data3 = data2.groupby('genus').agg(Species=('species', 'nunique')).reset_index()\n",
    "# Sort by descending species count\n",
    "data3 = data3.sort_values('Species', ascending=False)\n",
    "# Write to CSV\n",
    "data3.to_csv(pd.Timestamp.today().strftime('%Y-%m-%d') +'_phiSlim_genus_no_Species.csv', index=False)"
   ],
   "metadata": {
    "collapsed": false
   }
  },
  {
   "cell_type": "code",
   "execution_count": null,
   "outputs": [],
   "source": [
    "data3\n"
   ],
   "metadata": {
    "collapsed": false
   }
  },
  {
   "cell_type": "code",
   "execution_count": null,
   "outputs": [],
   "source": [
    "columns = ['PhiAcc', 'PathSpecies', 'ProtId', 'HostSpeciesTaxId', 'Literature_Id', 'DiseaseName']\n",
    "aggregations = {'PhiAcc': 'count', 'PathSpecies': 'nunique', 'ProtId': 'nunique', 'HostSpeciesTaxId': 'nunique', 'Literature_Id': 'nunique', 'DiseaseName': 'nunique'}\n",
    "\n",
    "global_data = phiSlim[columns].agg(aggregations).reset_index()\n",
    "\n"
   ],
   "metadata": {
    "collapsed": false
   }
  },
  {
   "cell_type": "code",
   "execution_count": null,
   "outputs": [],
   "source": [
    "global_data.describe()"
   ],
   "metadata": {
    "collapsed": false
   }
  },
  {
   "cell_type": "code",
   "execution_count": null,
   "outputs": [],
   "source": [
    "phiSlim['DiseaseName'].nunique()\n",
    "phiSlim['Phenotype'].nunique()\n",
    "phiSlim['Phenotype'].astype('category').describe()\n",
    "phiSlim['Phenotype'].info()\n"
   ],
   "metadata": {
    "collapsed": false
   }
  },
  {
   "cell_type": "code",
   "execution_count": null,
   "outputs": [],
   "source": [
    "url = \"https://raw.githubusercontent.com/martin2urban/pythonProject1/master/phiSlim30cols.csv\"\n",
    "columns= ['PhiAcc', 'ProtId', 'PathSpecies', 'PathSpeciesTaxID', 'Phenotype']\n",
    "my_types = {\n",
    "    \"PhiAcc\": str,\n",
    "    'Phenotype': str\n",
    "#   \"ProtId\": str,\n",
    "#   \"PathSpecies\": str,\n",
    "#  \"PathSpeciesTaxID\": int,\n",
    "\n",
    "}\n",
    "phi2 = pd.read_csv(\n",
    "    \"phiSlim30cols.csv\",\n",
    "    usecols=columns,\n",
    "    dtype=my_types,\n",
    "    header=0,\n",
    "    skiprows=0,\n",
    ")\n",
    "phi2['Phenotype'] = phi2['Phenotype'].astype('category')"
   ],
   "metadata": {
    "collapsed": false
   }
  },
  {
   "cell_type": "code",
   "execution_count": null,
   "outputs": [],
   "source": [
    "phi2.info()\n",
    "phi2['PhiAcc'].dtype"
   ],
   "metadata": {
    "collapsed": false
   }
  },
  {
   "cell_type": "code",
   "execution_count": null,
   "outputs": [],
   "source": [
    "phi3 = phi2.loc[phi2['PhiAcc'].apply(lambda x: isinstance(x, str))]\n",
    "phi3['PhiAcc'] = phi2['PhiAcc'].astype('str')\n",
    "phi3\n"
   ],
   "metadata": {
    "collapsed": false
   }
  },
  {
   "cell_type": "code",
   "execution_count": null,
   "outputs": [],
   "source": [],
   "metadata": {
    "collapsed": false
   }
  }
 ],
 "metadata": {
  "kernelspec": {
   "display_name": "Python 3",
   "language": "python",
   "name": "python3"
  },
  "language_info": {
   "codemirror_mode": {
    "name": "ipython",
    "version": 2
   },
   "file_extension": ".py",
   "mimetype": "text/x-python",
   "name": "python",
   "nbconvert_exporter": "python",
   "pygments_lexer": "ipython2",
   "version": "2.7.6"
  }
 },
 "nbformat": 4,
 "nbformat_minor": 0
}
