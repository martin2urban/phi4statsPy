{
 "cells": [
  {
   "cell_type": "code",
   "execution_count": 2,
   "metadata": {
    "collapsed": true,
    "ExecuteTime": {
     "end_time": "2023-11-26T11:03:31.693707500Z",
     "start_time": "2023-11-26T11:03:31.681690800Z"
    }
   },
   "outputs": [],
   "source": [
    "import pandas as pd\n",
    "import numpy as np\n",
    "import matplotlib.pyplot as plt\n",
    "import seaborn as sns"
   ]
  },
  {
   "cell_type": "code",
   "execution_count": 6,
   "outputs": [],
   "source": [
    "url = \"https://raw.githubusercontent.com/martin2urban/pythonProject1/master/phiSlim30cols.csv\"\n",
    "columns= ['PhiAcc', 'ProtId', 'PathSpecies', 'PathSpeciesTaxID', 'Phenotype']\n",
    "\n",
    "phi = pd.read_csv(\n",
    "    \"phiSlim30cols.csv\",\n",
    "    usecols=columns,\n",
    "    header=0,\n",
    "    skiprows=[1],\n",
    ")\n",
    "phi[columns] = phi[columns].apply(lambda x: x.str.strip())\n",
    "phi.to_csv('4cols.csv', index=False)"
   ],
   "metadata": {
    "collapsed": false,
    "ExecuteTime": {
     "end_time": "2023-11-26T11:08:44.914817200Z",
     "start_time": "2023-11-26T11:08:44.615612800Z"
    }
   }
  },
  {
   "cell_type": "code",
   "execution_count": 8,
   "outputs": [
    {
     "name": "stdout",
     "output_type": "stream",
     "text": [
      "Index(['PhiAcc', 'ProtId', 'PathSpeciesTaxID', 'PathSpecies', 'Phenotype'], dtype='object')\n",
      "<class 'pandas.core.frame.DataFrame'>\n",
      "RangeIndex: 21674 entries, 0 to 21673\n",
      "Data columns (total 5 columns):\n",
      " #   Column            Non-Null Count  Dtype \n",
      "---  ------            --------------  ----- \n",
      " 0   PhiAcc            21674 non-null  object\n",
      " 1   ProtId            21674 non-null  object\n",
      " 2   PathSpeciesTaxID  21674 non-null  Int64 \n",
      " 3   PathSpecies       21674 non-null  object\n",
      " 4   Phenotype         21674 non-null  object\n",
      "dtypes: Int64(1), object(4)\n",
      "memory usage: 867.9+ KB\n"
     ]
    }
   ],
   "source": [
    "my_types = {\n",
    "    \"PhiAcc\": str,\n",
    "    \"ProtId\": str,\n",
    "    \"PathSpecies\": str,\n",
    "    \"PathSpeciesTaxID\": 'Int64',\n",
    "}\n",
    "\n",
    "phi2 = pd.read_csv(\n",
    "    \"4cols.csv\",\n",
    "    dtype=my_types,\n",
    "    header=0,\n",
    ")\n",
    "print(phi2.columns)\n",
    "phi2.describe(include='all')\n",
    "phi2.info()"
   ],
   "metadata": {
    "collapsed": false,
    "ExecuteTime": {
     "end_time": "2023-11-26T11:09:24.306555100Z",
     "start_time": "2023-11-26T11:09:24.153106800Z"
    }
   }
  },
  {
   "cell_type": "code",
   "execution_count": 9,
   "outputs": [
    {
     "name": "stdout",
     "output_type": "stream",
     "text": [
      "Non-string values in column 'PhiAcc':\n",
      "\n",
      "Non-string values in column 'ProtId':\n",
      ".\n",
      "-\n",
      "_\n",
      "\n",
      "Non-string values in column 'PathSpeciesTaxID':\n",
      "\n",
      "Non-string values in column 'PathSpecies':\n",
      "'\n",
      ".\n",
      "-\n",
      "\n",
      "Non-string values in column 'Phenotype':\n",
      ")\n",
      "(\n",
      "\n"
     ]
    }
   ],
   "source": [
    "#How do I convert the columns 'PhiAcc', 'ProtId', 'PathSpecies', 'PathSpeciesTaxID' to strings?\n",
    "#\n",
    "columns = ['PhiAcc', 'ProtId', 'PathSpecies', 'PathSpeciesTaxID']\n",
    "non_string_values_per_column = {}\n",
    "for column in phi2.columns:\n",
    "    non_string_values = set(phi2[column].astype(str).str.findall(r'[^a-zA-Z\\s\\d:]').sum())\n",
    "    non_string_values_per_column[column] = non_string_values\n",
    "\n",
    "for column, non_string_values in non_string_values_per_column.items():\n",
    "    print(f\"Non-string values in column '{column}':\")\n",
    "    for value in non_string_values:\n",
    "        print(value)\n",
    "    print()\n",
    "\n"
   ],
   "metadata": {
    "collapsed": false,
    "ExecuteTime": {
     "end_time": "2023-11-26T11:10:30.967706500Z",
     "start_time": "2023-11-26T11:10:30.108371300Z"
    }
   }
  },
  {
   "cell_type": "code",
   "execution_count": null,
   "outputs": [],
   "source": [
    "# make stats-counts report\n",
    "# tabulate tally: specis x genes x interactions\n",
    "# Group by 'PathSpecies' and calculate distinct 'PhiAcc' count and count of rows\n",
    "data = phiSlim.groupby('PathSpecies').agg({'PhiAcc': 'nunique', 'PathSpecies': 'size'}).rename(columns={'PhiAcc': 'genes', 'PathSpecies': 'PHI.base.accession'}).reset_index()\n",
    "\n",
    "# Sort the DataFrame by 'PHI.base.accession' in descending order\n",
    "data = data.sort_values('PHI.base.accession', ascending=False)\n",
    "\n",
    "# Rename 'PHI.base.accession' column to 'interactions'\n",
    "data = data.rename(columns={'PHI.base.accession': 'interactions'})\n",
    "\n",
    "# Write the DataFrame to a CSV file\n",
    "data.to_csv(pd.Timestamp.today().strftime('%Y-%m-%d') +\"phiSlim_speciesBYpathogen_geneBYinteraction_tally.csv\", index=False, na_rep=\"\")\n"
   ],
   "metadata": {
    "collapsed": false
   }
  },
  {
   "cell_type": "code",
   "execution_count": null,
   "outputs": [],
   "source": [
    "data.info()"
   ],
   "metadata": {
    "collapsed": false
   }
  },
  {
   "cell_type": "code",
   "execution_count": null,
   "outputs": [],
   "source": [
    "# tabulate tally: genus x genes x interactions\n",
    "# Split data \"species name\n",
    "data2 = data['PathSpecies'].str.split(' ', expand=True).rename(columns={0: 'genus', 1: 'species'})\n",
    "data2 = data2.iloc[:, [0, 1]]\n",
    "# Group by genus and count distinct species\n",
    "data3 = data2.groupby('genus').agg(Species=('species', 'nunique')).reset_index()\n",
    "# Sort by descending species count\n",
    "data3 = data3.sort_values('Species', ascending=False)\n",
    "# Write to CSV\n",
    "data3.to_csv(pd.Timestamp.today().strftime('%Y-%m-%d') +'_phiSlim_genus_no_Species.csv', index=False)"
   ],
   "metadata": {
    "collapsed": false
   }
  },
  {
   "cell_type": "code",
   "execution_count": null,
   "outputs": [],
   "source": [
    "data3\n"
   ],
   "metadata": {
    "collapsed": false
   }
  },
  {
   "cell_type": "code",
   "execution_count": null,
   "outputs": [],
   "source": [
    "columns = ['PhiAcc', 'PathSpecies', 'ProtId', 'HostSpeciesTaxId', 'Literature_Id', 'DiseaseName']\n",
    "aggregations = {'PhiAcc': 'count', 'PathSpecies': 'nunique', 'ProtId': 'nunique', 'HostSpeciesTaxId': 'nunique', 'Literature_Id': 'nunique', 'DiseaseName': 'nunique'}\n",
    "\n",
    "global_data = phiSlim[columns].agg(aggregations).reset_index()\n",
    "\n"
   ],
   "metadata": {
    "collapsed": false
   }
  },
  {
   "cell_type": "code",
   "execution_count": null,
   "outputs": [],
   "source": [
    "global_data.describe()"
   ],
   "metadata": {
    "collapsed": false
   }
  },
  {
   "cell_type": "code",
   "execution_count": null,
   "outputs": [],
   "source": [
    "phiSlim['DiseaseName'].nunique()\n",
    "phiSlim['Phenotype'].nunique()\n",
    "phiSlim['Phenotype'].astype('category').describe()\n",
    "phiSlim['Phenotype'].info()\n"
   ],
   "metadata": {
    "collapsed": false
   }
  },
  {
   "cell_type": "code",
   "execution_count": 10,
   "outputs": [],
   "source": [
    "url = \"https://raw.githubusercontent.com/martin2urban/pythonProject1/master/phiSlim30cols.csv\"\n",
    "columns= ['PhiAcc', 'ProtId', 'PathSpecies', 'PathSpeciesTaxID', 'Phenotype']\n",
    "my_types = {\n",
    "    \"PhiAcc\": str,\n",
    "    'Phenotype': str\n",
    "#   \"ProtId\": str,\n",
    "#   \"PathSpecies\": str,\n",
    "#  \"PathSpeciesTaxID\": int,\n",
    "\n",
    "}\n",
    "phi2 = pd.read_csv(\n",
    "    \"phiSlim30cols.csv\",\n",
    "    usecols=columns,\n",
    "    dtype=my_types,\n",
    "    header=0,\n",
    "    skiprows=0,\n",
    ")\n",
    "phi2['Phenotype'] = phi2['Phenotype'].astype('category')"
   ],
   "metadata": {
    "collapsed": false,
    "ExecuteTime": {
     "end_time": "2023-11-26T11:14:33.039732Z",
     "start_time": "2023-11-26T11:14:32.840036700Z"
    }
   }
  },
  {
   "cell_type": "code",
   "execution_count": 11,
   "outputs": [
    {
     "name": "stdout",
     "output_type": "stream",
     "text": [
      "<class 'pandas.core.frame.DataFrame'>\n",
      "RangeIndex: 21675 entries, 0 to 21674\n",
      "Data columns (total 5 columns):\n",
      " #   Column            Non-Null Count  Dtype   \n",
      "---  ------            --------------  -----   \n",
      " 0   PhiAcc            21675 non-null  object  \n",
      " 1   ProtId            21675 non-null  object  \n",
      " 2   PathSpeciesTaxID  21675 non-null  object  \n",
      " 3   PathSpecies       21675 non-null  object  \n",
      " 4   Phenotype         21675 non-null  category\n",
      "dtypes: category(1), object(4)\n",
      "memory usage: 699.0+ KB\n"
     ]
    },
    {
     "data": {
      "text/plain": "dtype('O')"
     },
     "execution_count": 11,
     "metadata": {},
     "output_type": "execute_result"
    }
   ],
   "source": [
    "phi2.info()\n",
    "phi2['PhiAcc'].dtype"
   ],
   "metadata": {
    "collapsed": false,
    "ExecuteTime": {
     "end_time": "2023-11-26T11:14:44.638511400Z",
     "start_time": "2023-11-26T11:14:44.581146700Z"
    }
   }
  },
  {
   "cell_type": "code",
   "execution_count": 12,
   "outputs": [
    {
     "data": {
      "text/plain": "           PhiAcc         ProtId PathSpeciesTaxID              PathSpecies  \\\n0           phi:3         p26215             5017        bipolaris zeicola   \n1           phi:7         p22287             5499             fulvia fulva   \n2          phi:12         q01886             5017        bipolaris zeicola   \n3          phi:14         p0c017             5207  cryptococcus neoformans   \n4          phi:14         p0c017             5207  cryptococcus neoformans   \n...           ...            ...              ...                      ...   \n21670  phi:123956  no data found          143451       plasmopara viticola   \n21671  phi:123957  no data found          143451       plasmopara viticola   \n21672  phi:123958         q9p8d4             5476         candida albicans   \n21673  phi:123958         q9p8d4             5476         candida albicans   \n21674  phi:123958         q9p8d4             5476         candida albicans   \n\n                                     Phenotype  \n0                     unaffected pathogenicity  \n1      effector (plant avirulence determinant)  \n2                        loss of pathogenicity  \n3                            reduced virulence  \n4                        loss of pathogenicity  \n...                                        ...  \n21670                        reduced virulence  \n21671                        reduced virulence  \n21672                        reduced virulence  \n21673                        reduced virulence  \n21674                    loss of pathogenicity  \n\n[21675 rows x 5 columns]",
      "text/html": "<div>\n<style scoped>\n    .dataframe tbody tr th:only-of-type {\n        vertical-align: middle;\n    }\n\n    .dataframe tbody tr th {\n        vertical-align: top;\n    }\n\n    .dataframe thead th {\n        text-align: right;\n    }\n</style>\n<table border=\"1\" class=\"dataframe\">\n  <thead>\n    <tr style=\"text-align: right;\">\n      <th></th>\n      <th>PhiAcc</th>\n      <th>ProtId</th>\n      <th>PathSpeciesTaxID</th>\n      <th>PathSpecies</th>\n      <th>Phenotype</th>\n    </tr>\n  </thead>\n  <tbody>\n    <tr>\n      <th>0</th>\n      <td>phi:3</td>\n      <td>p26215</td>\n      <td>5017</td>\n      <td>bipolaris zeicola</td>\n      <td>unaffected pathogenicity</td>\n    </tr>\n    <tr>\n      <th>1</th>\n      <td>phi:7</td>\n      <td>p22287</td>\n      <td>5499</td>\n      <td>fulvia fulva</td>\n      <td>effector (plant avirulence determinant)</td>\n    </tr>\n    <tr>\n      <th>2</th>\n      <td>phi:12</td>\n      <td>q01886</td>\n      <td>5017</td>\n      <td>bipolaris zeicola</td>\n      <td>loss of pathogenicity</td>\n    </tr>\n    <tr>\n      <th>3</th>\n      <td>phi:14</td>\n      <td>p0c017</td>\n      <td>5207</td>\n      <td>cryptococcus neoformans</td>\n      <td>reduced virulence</td>\n    </tr>\n    <tr>\n      <th>4</th>\n      <td>phi:14</td>\n      <td>p0c017</td>\n      <td>5207</td>\n      <td>cryptococcus neoformans</td>\n      <td>loss of pathogenicity</td>\n    </tr>\n    <tr>\n      <th>...</th>\n      <td>...</td>\n      <td>...</td>\n      <td>...</td>\n      <td>...</td>\n      <td>...</td>\n    </tr>\n    <tr>\n      <th>21670</th>\n      <td>phi:123956</td>\n      <td>no data found</td>\n      <td>143451</td>\n      <td>plasmopara viticola</td>\n      <td>reduced virulence</td>\n    </tr>\n    <tr>\n      <th>21671</th>\n      <td>phi:123957</td>\n      <td>no data found</td>\n      <td>143451</td>\n      <td>plasmopara viticola</td>\n      <td>reduced virulence</td>\n    </tr>\n    <tr>\n      <th>21672</th>\n      <td>phi:123958</td>\n      <td>q9p8d4</td>\n      <td>5476</td>\n      <td>candida albicans</td>\n      <td>reduced virulence</td>\n    </tr>\n    <tr>\n      <th>21673</th>\n      <td>phi:123958</td>\n      <td>q9p8d4</td>\n      <td>5476</td>\n      <td>candida albicans</td>\n      <td>reduced virulence</td>\n    </tr>\n    <tr>\n      <th>21674</th>\n      <td>phi:123958</td>\n      <td>q9p8d4</td>\n      <td>5476</td>\n      <td>candida albicans</td>\n      <td>loss of pathogenicity</td>\n    </tr>\n  </tbody>\n</table>\n<p>21675 rows × 5 columns</p>\n</div>"
     },
     "execution_count": 12,
     "metadata": {},
     "output_type": "execute_result"
    }
   ],
   "source": [
    "phi3 = phi2.loc[phi2['PhiAcc'].apply(lambda x: isinstance(x, str))]\n",
    "phi3['PhiAcc'] = phi2['PhiAcc'].astype('str')\n",
    "phi3\n"
   ],
   "metadata": {
    "collapsed": false,
    "ExecuteTime": {
     "end_time": "2023-11-26T11:15:18.750122400Z",
     "start_time": "2023-11-26T11:15:18.698042600Z"
    }
   }
  },
  {
   "cell_type": "code",
   "execution_count": 13,
   "outputs": [
    {
     "data": {
      "text/plain": "dtype('O')"
     },
     "execution_count": 13,
     "metadata": {},
     "output_type": "execute_result"
    }
   ],
   "source": [
    "import string\n",
    "# Function to filter out non-ASCII and non-printable characters\n",
    "def filter_ascii_printable(text):\n",
    "    printable_chars = set(string.printable)\n",
    "    return ''.join(filter(lambda x: x in printable_chars, text))\n",
    "\n",
    "# Apply the filter_ascii_printable function to the 'PhiAcc' column\n",
    "phi3['PhiAcc'] = phi3['PhiAcc'].apply(filter_ascii_printable).astype(str)\n",
    "phi3['PhiAcc'].dtype"
   ],
   "metadata": {
    "collapsed": false,
    "ExecuteTime": {
     "end_time": "2023-11-26T11:15:28.594402100Z",
     "start_time": "2023-11-26T11:15:28.432096200Z"
    }
   }
  },
  {
   "cell_type": "code",
   "execution_count": 14,
   "outputs": [
    {
     "name": "stdout",
     "output_type": "stream",
     "text": [
      "[<class 'str'>]\n"
     ]
    },
    {
     "data": {
      "text/plain": "dtype('O')"
     },
     "execution_count": 14,
     "metadata": {},
     "output_type": "execute_result"
    }
   ],
   "source": [
    "unique_types = phi3['PhiAcc'].apply(type).unique()\n",
    "print(unique_types)\n",
    "phi3['PhiAcc'] = phi3['PhiAcc'].astype(object).astype(str)\n",
    "phi3['PhiAcc'].dtype"
   ],
   "metadata": {
    "collapsed": false,
    "ExecuteTime": {
     "end_time": "2023-11-26T11:15:41.603962200Z",
     "start_time": "2023-11-26T11:15:41.531545600Z"
    }
   }
  },
  {
   "cell_type": "markdown",
   "source": [
    "### phi2  dataframe has four columns only for training:\n",
    "Index(['PhiAcc', 'ProtId', 'PathSpeciesTaxID', 'PathSpecies', 'Phenotype'], dtype='object')"
   ],
   "metadata": {
    "collapsed": false
   }
  },
  {
   "cell_type": "code",
   "execution_count": 16,
   "outputs": [
    {
     "data": {
      "text/plain": "Index(['PhiAcc', 'ProtId', 'PathSpeciesTaxID', 'PathSpecies', 'Phenotype'], dtype='object')"
     },
     "execution_count": 16,
     "metadata": {},
     "output_type": "execute_result"
    }
   ],
   "source": [
    "phi2.columns\n",
    "\n",
    "\n"
   ],
   "metadata": {
    "collapsed": false,
    "ExecuteTime": {
     "end_time": "2023-11-26T11:19:30.246617900Z",
     "start_time": "2023-11-26T11:19:30.202867Z"
    }
   }
  }
 ],
 "metadata": {
  "kernelspec": {
   "display_name": "Python 3",
   "language": "python",
   "name": "python3"
  },
  "language_info": {
   "codemirror_mode": {
    "name": "ipython",
    "version": 2
   },
   "file_extension": ".py",
   "mimetype": "text/x-python",
   "name": "python",
   "nbconvert_exporter": "python",
   "pygments_lexer": "ipython2",
   "version": "2.7.6"
  }
 },
 "nbformat": 4,
 "nbformat_minor": 0
}
