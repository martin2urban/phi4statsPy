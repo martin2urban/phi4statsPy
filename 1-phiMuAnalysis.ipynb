{
 "cells": [
  {
   "cell_type": "code",
   "execution_count": 5,
   "metadata": {
    "collapsed": true,
    "ExecuteTime": {
     "end_time": "2023-11-24T16:11:54.478082200Z",
     "start_time": "2023-11-24T16:11:54.357726Z"
    }
   },
   "outputs": [],
   "source": [
    "import pandas as pd\n",
    "import numpy as np\n",
    "import matplotlib.pyplot as plt\n",
    "import seaborn as sns"
   ]
  },
  {
   "cell_type": "code",
   "execution_count": 6,
   "outputs": [
    {
     "name": "stdout",
     "output_type": "stream",
     "text": [
      "Index(['PhiAcc', 'ProtId', 'PathSpeciesTaxID', 'PathSpecies'], dtype='object')\n"
     ]
    },
    {
     "data": {
      "text/plain": "          PhiAcc         ProtId PathSpeciesTaxID           PathSpecies\ncount      20951          20951            20951                 20951\nunique     12144           9378              286                   286\ntop     PHI:8380  no data found             5518  Fusarium graminearum\nfreq          69           2426             1800                  1800",
      "text/html": "<div>\n<style scoped>\n    .dataframe tbody tr th:only-of-type {\n        vertical-align: middle;\n    }\n\n    .dataframe tbody tr th {\n        vertical-align: top;\n    }\n\n    .dataframe thead th {\n        text-align: right;\n    }\n</style>\n<table border=\"1\" class=\"dataframe\">\n  <thead>\n    <tr style=\"text-align: right;\">\n      <th></th>\n      <th>PhiAcc</th>\n      <th>ProtId</th>\n      <th>PathSpeciesTaxID</th>\n      <th>PathSpecies</th>\n    </tr>\n  </thead>\n  <tbody>\n    <tr>\n      <th>count</th>\n      <td>20951</td>\n      <td>20951</td>\n      <td>20951</td>\n      <td>20951</td>\n    </tr>\n    <tr>\n      <th>unique</th>\n      <td>12144</td>\n      <td>9378</td>\n      <td>286</td>\n      <td>286</td>\n    </tr>\n    <tr>\n      <th>top</th>\n      <td>PHI:8380</td>\n      <td>no data found</td>\n      <td>5518</td>\n      <td>Fusarium graminearum</td>\n    </tr>\n    <tr>\n      <th>freq</th>\n      <td>69</td>\n      <td>2426</td>\n      <td>1800</td>\n      <td>1800</td>\n    </tr>\n  </tbody>\n</table>\n</div>"
     },
     "execution_count": 6,
     "metadata": {},
     "output_type": "execute_result"
    }
   ],
   "source": [
    "url = \"https://raw.githubusercontent.com/martin2urban/pythonProject1/master/phiSlim30cols.csv\"\n",
    "columns= ['PhiAcc', 'ProtId', 'PathSpecies', 'PathSpeciesTaxID']\n",
    "my_types = {\n",
    "    \"PhiAcc\": str,\n",
    "#   \"ProtId\": str,\n",
    "#   \"PathSpecies\": str,\n",
    "#  \"PathSpeciesTaxID\": int,\n",
    "\n",
    "}\n",
    "phi2 = pd.read_csv(\n",
    "    \"phiSlim30cols.csv\",\n",
    "    usecols=columns,\n",
    "#    dtype=my_types,\n",
    "    header=0,\n",
    ")\n",
    "print(phi2.columns)\n",
    "phi2.describe(include='all')"
   ],
   "metadata": {
    "collapsed": false,
    "ExecuteTime": {
     "end_time": "2023-11-24T16:11:54.753362700Z",
     "start_time": "2023-11-24T16:11:54.377718700Z"
    }
   }
  },
  {
   "cell_type": "code",
   "execution_count": 7,
   "outputs": [
    {
     "name": "stdout",
     "output_type": "stream",
     "text": [
      "Non-string values in column 'PhiAcc':\n",
      "_\n",
      "\n",
      "Non-string values in column 'ProtId':\n",
      "-\n",
      ".\n",
      "\n",
      "Non-string values in column 'PathSpeciesTaxID':\n",
      "\n",
      "Non-string values in column 'PathSpecies':\n",
      "-\n",
      ".\n",
      "'\n",
      "\n"
     ]
    }
   ],
   "source": [
    "#How do I convert the columns 'PhiAcc', 'ProtId', 'PathSpecies', 'PathSpeciesTaxID' to strings?\n",
    "#\n",
    "columns = ['PhiAcc', 'ProtId', 'PathSpecies', 'PathSpeciesTaxID']\n",
    "non_string_values_per_column = {}\n",
    "for column in phi2.columns:\n",
    "    non_string_values = set(phi2[column].astype(str).str.findall(r'[^a-zA-Z\\s\\d:]').sum())\n",
    "    non_string_values_per_column[column] = non_string_values\n",
    "\n",
    "for column, non_string_values in non_string_values_per_column.items():\n",
    "    print(f\"Non-string values in column '{column}':\")\n",
    "    for value in non_string_values:\n",
    "        print(value)\n",
    "    print()\n",
    "\n"
   ],
   "metadata": {
    "collapsed": false,
    "ExecuteTime": {
     "end_time": "2023-11-24T16:11:55.254526200Z",
     "start_time": "2023-11-24T16:11:54.755374Z"
    }
   }
  },
  {
   "cell_type": "code",
   "execution_count": 8,
   "outputs": [],
   "source": [
    "url = \"https://raw.githubusercontent.com/martin2urban/pythonProject1/master/phiSlim30cols.csv\"\n",
    "columns= ['PhiAcc', 'ProtId', 'PathSpecies', 'PathSpeciesTaxID']\n",
    "my_types = {\n",
    "    \"PhiAcc\": str,\n",
    "#   \"ProtId\": str,\n",
    "#   \"PathSpecies\": str,\n",
    "#  \"PathSpeciesTaxID\": int,\n",
    "\n",
    "}\n",
    "phi2 = pd.read_csv(\n",
    "    \"phiSlim30cols.csv\",\n",
    "    usecols=columns,\n",
    "#    dtype=my_types,\n",
    "    header=0,\n",
    ")"
   ],
   "metadata": {
    "collapsed": false,
    "ExecuteTime": {
     "end_time": "2023-11-24T16:11:55.929791700Z",
     "start_time": "2023-11-24T16:11:55.257543300Z"
    }
   }
  },
  {
   "cell_type": "code",
   "execution_count": 9,
   "outputs": [
    {
     "data": {
      "text/plain": "          PhiAcc   ProtDb         ProtId   GeneDb        LocusId SeqStrain  \\\ncount      20951    18525          20951    18892          19321     18036   \nunique     12144        3           9378       19          10214      1603   \ntop     PHI:8380  Uniprot  no data found  Genbank  no data found      PH-1   \nfreq          69    18339           2426    15696            272      1514   \n\n                GenName    MulMut PathSpeciesTaxID           PathSpecies  ...  \\\ncount             20951      5176            20951                 20951  ...   \nunique            10547      3334              286                   286  ...   \ntop     ToxB (AAO73337)  PHI:8380             5518  Fusarium graminearum  ...   \nfreq                 69        69             1800                  1800  ...   \n\n             Function             GO      Phenotype Vegetative_spores  \\\ncount            2324           2311            615              1902   \nunique            137              3              7                24   \ntop     no data found  no data found  no data found         wild type   \nfreq             1508           1495            281               922   \n\n       Sexual_spores In_vitro_growth Spore_germination     Literature_Id  \\\ncount           8476            1930             19523             20030   \nunique            65              23                 4              2885   \ntop          reduced       wild type                no  ee2443@snu.ac.kr   \nfreq            2639             750             19304               709   \n\n       Year_published           Chemical.group  \ncount           20951                        1  \nunique            159                        1  \ntop             42278  Anti infective-comments  \nfreq              594                        1  \n\n[4 rows x 30 columns]",
      "text/html": "<div>\n<style scoped>\n    .dataframe tbody tr th:only-of-type {\n        vertical-align: middle;\n    }\n\n    .dataframe tbody tr th {\n        vertical-align: top;\n    }\n\n    .dataframe thead th {\n        text-align: right;\n    }\n</style>\n<table border=\"1\" class=\"dataframe\">\n  <thead>\n    <tr style=\"text-align: right;\">\n      <th></th>\n      <th>PhiAcc</th>\n      <th>ProtDb</th>\n      <th>ProtId</th>\n      <th>GeneDb</th>\n      <th>LocusId</th>\n      <th>SeqStrain</th>\n      <th>GenName</th>\n      <th>MulMut</th>\n      <th>PathSpeciesTaxID</th>\n      <th>PathSpecies</th>\n      <th>...</th>\n      <th>Function</th>\n      <th>GO</th>\n      <th>Phenotype</th>\n      <th>Vegetative_spores</th>\n      <th>Sexual_spores</th>\n      <th>In_vitro_growth</th>\n      <th>Spore_germination</th>\n      <th>Literature_Id</th>\n      <th>Year_published</th>\n      <th>Chemical.group</th>\n    </tr>\n  </thead>\n  <tbody>\n    <tr>\n      <th>count</th>\n      <td>20951</td>\n      <td>18525</td>\n      <td>20951</td>\n      <td>18892</td>\n      <td>19321</td>\n      <td>18036</td>\n      <td>20951</td>\n      <td>5176</td>\n      <td>20951</td>\n      <td>20951</td>\n      <td>...</td>\n      <td>2324</td>\n      <td>2311</td>\n      <td>615</td>\n      <td>1902</td>\n      <td>8476</td>\n      <td>1930</td>\n      <td>19523</td>\n      <td>20030</td>\n      <td>20951</td>\n      <td>1</td>\n    </tr>\n    <tr>\n      <th>unique</th>\n      <td>12144</td>\n      <td>3</td>\n      <td>9378</td>\n      <td>19</td>\n      <td>10214</td>\n      <td>1603</td>\n      <td>10547</td>\n      <td>3334</td>\n      <td>286</td>\n      <td>286</td>\n      <td>...</td>\n      <td>137</td>\n      <td>3</td>\n      <td>7</td>\n      <td>24</td>\n      <td>65</td>\n      <td>23</td>\n      <td>4</td>\n      <td>2885</td>\n      <td>159</td>\n      <td>1</td>\n    </tr>\n    <tr>\n      <th>top</th>\n      <td>PHI:8380</td>\n      <td>Uniprot</td>\n      <td>no data found</td>\n      <td>Genbank</td>\n      <td>no data found</td>\n      <td>PH-1</td>\n      <td>ToxB (AAO73337)</td>\n      <td>PHI:8380</td>\n      <td>5518</td>\n      <td>Fusarium graminearum</td>\n      <td>...</td>\n      <td>no data found</td>\n      <td>no data found</td>\n      <td>no data found</td>\n      <td>wild type</td>\n      <td>reduced</td>\n      <td>wild type</td>\n      <td>no</td>\n      <td>ee2443@snu.ac.kr</td>\n      <td>42278</td>\n      <td>Anti infective-comments</td>\n    </tr>\n    <tr>\n      <th>freq</th>\n      <td>69</td>\n      <td>18339</td>\n      <td>2426</td>\n      <td>15696</td>\n      <td>272</td>\n      <td>1514</td>\n      <td>69</td>\n      <td>69</td>\n      <td>1800</td>\n      <td>1800</td>\n      <td>...</td>\n      <td>1508</td>\n      <td>1495</td>\n      <td>281</td>\n      <td>922</td>\n      <td>2639</td>\n      <td>750</td>\n      <td>19304</td>\n      <td>709</td>\n      <td>594</td>\n      <td>1</td>\n    </tr>\n  </tbody>\n</table>\n<p>4 rows × 30 columns</p>\n</div>"
     },
     "execution_count": 9,
     "metadata": {},
     "output_type": "execute_result"
    }
   ],
   "source": [
    "phiSlim = pd.read_csv('phiSlim30cols.csv', header=0)\n",
    "phiSlim.describe()"
   ],
   "metadata": {
    "collapsed": false,
    "ExecuteTime": {
     "end_time": "2023-11-24T16:11:56.935796700Z",
     "start_time": "2023-11-24T16:11:56.000873Z"
    }
   }
  },
  {
   "cell_type": "code",
   "execution_count": 10,
   "outputs": [
    {
     "data": {
      "text/plain": "               PhiAcc             ProtDb      ProtId          GeneDb  \\\n0      phi_molconn_id  protein id source  protein id  gene id source   \n1               phi:3            uniprot      p26215            embl   \n2               phi:7            uniprot      p22287            embl   \n3              phi:12            uniprot      q01886            embl   \n4              phi:14            uniprot      p0c017            embl   \n...               ...                ...         ...             ...   \n20946      phi:123548            uniprot      g4msa2         genbank   \n20947      phi:123548            uniprot      g4msa2         genbank   \n20948      phi:123549            uniprot      g4mu94         genbank   \n20949      phi:123550            uniprot      g4nb68         genbank   \n20950      phi:123551            uniprot      a4qxv8         genbank   \n\n        LocusId         SeqStrain               GenName             MulMut  \\\n0       gene id   sequence strain                  gene  multiple mutation   \n1      aaa79885             sb111                  pgn1                NaN   \n2      caa42824            race 5                  avr9                NaN   \n3      aaa33023             sb111                  hts1                NaN   \n4      aab09711  clinical isolate                  ade2                NaN   \n...         ...               ...                   ...                ...   \n20946  eha58360             70-15    moade8 (mgg_13813)                NaN   \n20947  eha58360             70-15    moade8 (mgg_13813)                NaN   \n20948  eha53975             70-15  moade5,7 (mgg_11343)                NaN   \n20949  eha48830             70-15    moade6 (mgg_11343)                NaN   \n20950  eha49567             70-15   moade12 (mgg_17000)                NaN   \n\n      PathSpeciesTaxID              PathSpecies  ...         Function  \\\n0          pathogen id         pathogen species  ...    go annotation   \n1                 5017        bipolaris zeicola  ...       go:0004650   \n2                 5499             fulvia fulva  ...              NaN   \n3                 5017        bipolaris zeicola  ...  go:0009405, imp   \n4                 5207  cryptococcus neoformans  ...  go:0009405, imp   \n...                ...                      ...  ...              ...   \n20946           318829       magnaporthe oryzae  ...              NaN   \n20947           318829       magnaporthe oryzae  ...              NaN   \n20948           318829       magnaporthe oryzae  ...              NaN   \n20949           318829       magnaporthe oryzae  ...              NaN   \n20950           318829       magnaporthe oryzae  ...              NaN   \n\n             GO      Phenotype Vegetative_spores   Sexual_spores  \\\n0      database  mating defect     sexual spores  invitro growth   \n1            go            NaN               NaN             NaN   \n2           NaN            NaN               NaN             NaN   \n3            go            NaN               NaN             NaN   \n4            go            NaN               NaN             NaN   \n...         ...            ...               ...             ...   \n20946       NaN            NaN               NaN       defective   \n20947       NaN            NaN               NaN       defective   \n20948       NaN            NaN               NaN             NaN   \n20949       NaN            NaN               NaN             NaN   \n20950       NaN            NaN               NaN             NaN   \n\n         In_vitro_growth Spore_germination     Literature_Id Year_published  \\\n0      spore germination    essential gene      author email  curation date   \n1                    NaN               NaN               NaN          38476   \n2                    NaN               NaN               NaN          38476   \n3                    NaN               NaN               NaN          38476   \n4                    NaN               NaN               NaN          38476   \n...                  ...               ...               ...            ...   \n20946                NaN                no  xhliu@zju.edu.cn         22-oct   \n20947                NaN                no  xhliu@zju.edu.cn         22-oct   \n20948                NaN                no  xhliu@zju.edu.cn         22-oct   \n20949                NaN                no  xhliu@zju.edu.cn         22-oct   \n20950                NaN                no  xhliu@zju.edu.cn         22-oct   \n\n                Chemical.group  \n0      anti infective-comments  \n1                          NaN  \n2                          NaN  \n3                          NaN  \n4                          NaN  \n...                        ...  \n20946                      NaN  \n20947                      NaN  \n20948                      NaN  \n20949                      NaN  \n20950                      NaN  \n\n[20951 rows x 30 columns]",
      "text/html": "<div>\n<style scoped>\n    .dataframe tbody tr th:only-of-type {\n        vertical-align: middle;\n    }\n\n    .dataframe tbody tr th {\n        vertical-align: top;\n    }\n\n    .dataframe thead th {\n        text-align: right;\n    }\n</style>\n<table border=\"1\" class=\"dataframe\">\n  <thead>\n    <tr style=\"text-align: right;\">\n      <th></th>\n      <th>PhiAcc</th>\n      <th>ProtDb</th>\n      <th>ProtId</th>\n      <th>GeneDb</th>\n      <th>LocusId</th>\n      <th>SeqStrain</th>\n      <th>GenName</th>\n      <th>MulMut</th>\n      <th>PathSpeciesTaxID</th>\n      <th>PathSpecies</th>\n      <th>...</th>\n      <th>Function</th>\n      <th>GO</th>\n      <th>Phenotype</th>\n      <th>Vegetative_spores</th>\n      <th>Sexual_spores</th>\n      <th>In_vitro_growth</th>\n      <th>Spore_germination</th>\n      <th>Literature_Id</th>\n      <th>Year_published</th>\n      <th>Chemical.group</th>\n    </tr>\n  </thead>\n  <tbody>\n    <tr>\n      <th>0</th>\n      <td>phi_molconn_id</td>\n      <td>protein id source</td>\n      <td>protein id</td>\n      <td>gene id source</td>\n      <td>gene id</td>\n      <td>sequence strain</td>\n      <td>gene</td>\n      <td>multiple mutation</td>\n      <td>pathogen id</td>\n      <td>pathogen species</td>\n      <td>...</td>\n      <td>go annotation</td>\n      <td>database</td>\n      <td>mating defect</td>\n      <td>sexual spores</td>\n      <td>invitro growth</td>\n      <td>spore germination</td>\n      <td>essential gene</td>\n      <td>author email</td>\n      <td>curation date</td>\n      <td>anti infective-comments</td>\n    </tr>\n    <tr>\n      <th>1</th>\n      <td>phi:3</td>\n      <td>uniprot</td>\n      <td>p26215</td>\n      <td>embl</td>\n      <td>aaa79885</td>\n      <td>sb111</td>\n      <td>pgn1</td>\n      <td>NaN</td>\n      <td>5017</td>\n      <td>bipolaris zeicola</td>\n      <td>...</td>\n      <td>go:0004650</td>\n      <td>go</td>\n      <td>NaN</td>\n      <td>NaN</td>\n      <td>NaN</td>\n      <td>NaN</td>\n      <td>NaN</td>\n      <td>NaN</td>\n      <td>38476</td>\n      <td>NaN</td>\n    </tr>\n    <tr>\n      <th>2</th>\n      <td>phi:7</td>\n      <td>uniprot</td>\n      <td>p22287</td>\n      <td>embl</td>\n      <td>caa42824</td>\n      <td>race 5</td>\n      <td>avr9</td>\n      <td>NaN</td>\n      <td>5499</td>\n      <td>fulvia fulva</td>\n      <td>...</td>\n      <td>NaN</td>\n      <td>NaN</td>\n      <td>NaN</td>\n      <td>NaN</td>\n      <td>NaN</td>\n      <td>NaN</td>\n      <td>NaN</td>\n      <td>NaN</td>\n      <td>38476</td>\n      <td>NaN</td>\n    </tr>\n    <tr>\n      <th>3</th>\n      <td>phi:12</td>\n      <td>uniprot</td>\n      <td>q01886</td>\n      <td>embl</td>\n      <td>aaa33023</td>\n      <td>sb111</td>\n      <td>hts1</td>\n      <td>NaN</td>\n      <td>5017</td>\n      <td>bipolaris zeicola</td>\n      <td>...</td>\n      <td>go:0009405, imp</td>\n      <td>go</td>\n      <td>NaN</td>\n      <td>NaN</td>\n      <td>NaN</td>\n      <td>NaN</td>\n      <td>NaN</td>\n      <td>NaN</td>\n      <td>38476</td>\n      <td>NaN</td>\n    </tr>\n    <tr>\n      <th>4</th>\n      <td>phi:14</td>\n      <td>uniprot</td>\n      <td>p0c017</td>\n      <td>embl</td>\n      <td>aab09711</td>\n      <td>clinical isolate</td>\n      <td>ade2</td>\n      <td>NaN</td>\n      <td>5207</td>\n      <td>cryptococcus neoformans</td>\n      <td>...</td>\n      <td>go:0009405, imp</td>\n      <td>go</td>\n      <td>NaN</td>\n      <td>NaN</td>\n      <td>NaN</td>\n      <td>NaN</td>\n      <td>NaN</td>\n      <td>NaN</td>\n      <td>38476</td>\n      <td>NaN</td>\n    </tr>\n    <tr>\n      <th>...</th>\n      <td>...</td>\n      <td>...</td>\n      <td>...</td>\n      <td>...</td>\n      <td>...</td>\n      <td>...</td>\n      <td>...</td>\n      <td>...</td>\n      <td>...</td>\n      <td>...</td>\n      <td>...</td>\n      <td>...</td>\n      <td>...</td>\n      <td>...</td>\n      <td>...</td>\n      <td>...</td>\n      <td>...</td>\n      <td>...</td>\n      <td>...</td>\n      <td>...</td>\n      <td>...</td>\n    </tr>\n    <tr>\n      <th>20946</th>\n      <td>phi:123548</td>\n      <td>uniprot</td>\n      <td>g4msa2</td>\n      <td>genbank</td>\n      <td>eha58360</td>\n      <td>70-15</td>\n      <td>moade8 (mgg_13813)</td>\n      <td>NaN</td>\n      <td>318829</td>\n      <td>magnaporthe oryzae</td>\n      <td>...</td>\n      <td>NaN</td>\n      <td>NaN</td>\n      <td>NaN</td>\n      <td>NaN</td>\n      <td>defective</td>\n      <td>NaN</td>\n      <td>no</td>\n      <td>xhliu@zju.edu.cn</td>\n      <td>22-oct</td>\n      <td>NaN</td>\n    </tr>\n    <tr>\n      <th>20947</th>\n      <td>phi:123548</td>\n      <td>uniprot</td>\n      <td>g4msa2</td>\n      <td>genbank</td>\n      <td>eha58360</td>\n      <td>70-15</td>\n      <td>moade8 (mgg_13813)</td>\n      <td>NaN</td>\n      <td>318829</td>\n      <td>magnaporthe oryzae</td>\n      <td>...</td>\n      <td>NaN</td>\n      <td>NaN</td>\n      <td>NaN</td>\n      <td>NaN</td>\n      <td>defective</td>\n      <td>NaN</td>\n      <td>no</td>\n      <td>xhliu@zju.edu.cn</td>\n      <td>22-oct</td>\n      <td>NaN</td>\n    </tr>\n    <tr>\n      <th>20948</th>\n      <td>phi:123549</td>\n      <td>uniprot</td>\n      <td>g4mu94</td>\n      <td>genbank</td>\n      <td>eha53975</td>\n      <td>70-15</td>\n      <td>moade5,7 (mgg_11343)</td>\n      <td>NaN</td>\n      <td>318829</td>\n      <td>magnaporthe oryzae</td>\n      <td>...</td>\n      <td>NaN</td>\n      <td>NaN</td>\n      <td>NaN</td>\n      <td>NaN</td>\n      <td>NaN</td>\n      <td>NaN</td>\n      <td>no</td>\n      <td>xhliu@zju.edu.cn</td>\n      <td>22-oct</td>\n      <td>NaN</td>\n    </tr>\n    <tr>\n      <th>20949</th>\n      <td>phi:123550</td>\n      <td>uniprot</td>\n      <td>g4nb68</td>\n      <td>genbank</td>\n      <td>eha48830</td>\n      <td>70-15</td>\n      <td>moade6 (mgg_11343)</td>\n      <td>NaN</td>\n      <td>318829</td>\n      <td>magnaporthe oryzae</td>\n      <td>...</td>\n      <td>NaN</td>\n      <td>NaN</td>\n      <td>NaN</td>\n      <td>NaN</td>\n      <td>NaN</td>\n      <td>NaN</td>\n      <td>no</td>\n      <td>xhliu@zju.edu.cn</td>\n      <td>22-oct</td>\n      <td>NaN</td>\n    </tr>\n    <tr>\n      <th>20950</th>\n      <td>phi:123551</td>\n      <td>uniprot</td>\n      <td>a4qxv8</td>\n      <td>genbank</td>\n      <td>eha49567</td>\n      <td>70-15</td>\n      <td>moade12 (mgg_17000)</td>\n      <td>NaN</td>\n      <td>318829</td>\n      <td>magnaporthe oryzae</td>\n      <td>...</td>\n      <td>NaN</td>\n      <td>NaN</td>\n      <td>NaN</td>\n      <td>NaN</td>\n      <td>NaN</td>\n      <td>NaN</td>\n      <td>no</td>\n      <td>xhliu@zju.edu.cn</td>\n      <td>22-oct</td>\n      <td>NaN</td>\n    </tr>\n  </tbody>\n</table>\n<p>20951 rows × 30 columns</p>\n</div>"
     },
     "execution_count": 10,
     "metadata": {},
     "output_type": "execute_result"
    }
   ],
   "source": [
    "# tranform all string data in phiSlim to lowercase\n",
    "phiSlim = phiSlim.applymap(lambda x: x.lower() if isinstance(x, str) else x)\n",
    "phiSlim\n"
   ],
   "metadata": {
    "collapsed": false,
    "ExecuteTime": {
     "end_time": "2023-11-24T16:11:57.377123700Z",
     "start_time": "2023-11-24T16:11:56.922040300Z"
    }
   }
  },
  {
   "cell_type": "code",
   "execution_count": 39,
   "outputs": [],
   "source": [
    "# make stats-counts report\n",
    "# tabulate tally: specis x genes x interactions\n",
    "# Group by 'PathSpecies' and calculate distinct 'PhiAcc' count and count of rows\n",
    "data = phiSlim.groupby('PathSpecies').agg({'PhiAcc': 'nunique', 'PathSpecies': 'size'}).rename(columns={'PhiAcc': 'genes', 'PathSpecies': 'PHI.base.accession'}).reset_index()\n",
    "\n",
    "# Sort the DataFrame by 'PHI.base.accession' in descending order\n",
    "data = data.sort_values('PHI.base.accession', ascending=False)\n",
    "\n",
    "# Rename 'PHI.base.accession' column to 'interactions'\n",
    "data = data.rename(columns={'PHI.base.accession': 'interactions'})\n",
    "\n",
    "# Write the DataFrame to a CSV file\n",
    "data.to_csv(pd.Timestamp.today().strftime('%Y-%m-%d') +\"phiSlim_speciesBYpathogen_geneBYinteraction_tally.csv\", index=False, na_rep=\"\")\n"
   ],
   "metadata": {
    "collapsed": false,
    "ExecuteTime": {
     "end_time": "2023-11-24T16:54:22.534153600Z",
     "start_time": "2023-11-24T16:54:22.509321200Z"
    }
   }
  },
  {
   "cell_type": "code",
   "execution_count": 16,
   "outputs": [
    {
     "name": "stdout",
     "output_type": "stream",
     "text": [
      "<class 'pandas.core.frame.DataFrame'>\n",
      "Index: 286 entries, 111 to 153\n",
      "Data columns (total 3 columns):\n",
      " #   Column        Non-Null Count  Dtype \n",
      "---  ------        --------------  ----- \n",
      " 0   PathSpecies   286 non-null    object\n",
      " 1   genes         286 non-null    int64 \n",
      " 2   interactions  286 non-null    int64 \n",
      "dtypes: int64(2), object(1)\n",
      "memory usage: 8.9+ KB\n"
     ]
    }
   ],
   "source": [
    "data.info()"
   ],
   "metadata": {
    "collapsed": false,
    "ExecuteTime": {
     "end_time": "2023-11-24T16:16:32.805693200Z",
     "start_time": "2023-11-24T16:16:32.774951900Z"
    }
   }
  },
  {
   "cell_type": "code",
   "execution_count": 19,
   "outputs": [
    {
     "data": {
      "text/plain": "                0             1     2     3\n111      fusarium   graminearum  None  None\n146   magnaporthe        oryzae  None  None\n224    salmonella      enterica  None  None\n217     ralstonia  solanacearum  None  None\n48        candida      albicans  None  None\n..            ...           ...   ...   ...\n184   penicillium      italicum  None  None\n175      pathogen       species  None  None\n156     muricauda       olearia  None  None\n144     lonsdalea      quercina  None  None\n153  microdochium        sorghi  None  None\n\n[286 rows x 4 columns]",
      "text/html": "<div>\n<style scoped>\n    .dataframe tbody tr th:only-of-type {\n        vertical-align: middle;\n    }\n\n    .dataframe tbody tr th {\n        vertical-align: top;\n    }\n\n    .dataframe thead th {\n        text-align: right;\n    }\n</style>\n<table border=\"1\" class=\"dataframe\">\n  <thead>\n    <tr style=\"text-align: right;\">\n      <th></th>\n      <th>0</th>\n      <th>1</th>\n      <th>2</th>\n      <th>3</th>\n    </tr>\n  </thead>\n  <tbody>\n    <tr>\n      <th>111</th>\n      <td>fusarium</td>\n      <td>graminearum</td>\n      <td>None</td>\n      <td>None</td>\n    </tr>\n    <tr>\n      <th>146</th>\n      <td>magnaporthe</td>\n      <td>oryzae</td>\n      <td>None</td>\n      <td>None</td>\n    </tr>\n    <tr>\n      <th>224</th>\n      <td>salmonella</td>\n      <td>enterica</td>\n      <td>None</td>\n      <td>None</td>\n    </tr>\n    <tr>\n      <th>217</th>\n      <td>ralstonia</td>\n      <td>solanacearum</td>\n      <td>None</td>\n      <td>None</td>\n    </tr>\n    <tr>\n      <th>48</th>\n      <td>candida</td>\n      <td>albicans</td>\n      <td>None</td>\n      <td>None</td>\n    </tr>\n    <tr>\n      <th>...</th>\n      <td>...</td>\n      <td>...</td>\n      <td>...</td>\n      <td>...</td>\n    </tr>\n    <tr>\n      <th>184</th>\n      <td>penicillium</td>\n      <td>italicum</td>\n      <td>None</td>\n      <td>None</td>\n    </tr>\n    <tr>\n      <th>175</th>\n      <td>pathogen</td>\n      <td>species</td>\n      <td>None</td>\n      <td>None</td>\n    </tr>\n    <tr>\n      <th>156</th>\n      <td>muricauda</td>\n      <td>olearia</td>\n      <td>None</td>\n      <td>None</td>\n    </tr>\n    <tr>\n      <th>144</th>\n      <td>lonsdalea</td>\n      <td>quercina</td>\n      <td>None</td>\n      <td>None</td>\n    </tr>\n    <tr>\n      <th>153</th>\n      <td>microdochium</td>\n      <td>sorghi</td>\n      <td>None</td>\n      <td>None</td>\n    </tr>\n  </tbody>\n</table>\n<p>286 rows × 4 columns</p>\n</div>"
     },
     "execution_count": 19,
     "metadata": {},
     "output_type": "execute_result"
    }
   ],
   "source": [
    "data2\n"
   ],
   "metadata": {
    "collapsed": false,
    "ExecuteTime": {
     "end_time": "2023-11-24T16:29:07.886075200Z",
     "start_time": "2023-11-24T16:29:07.833278800Z"
    }
   }
  },
  {
   "cell_type": "code",
   "execution_count": 40,
   "outputs": [],
   "source": [
    "# tabulate tally: genus x genes x interactions\n",
    "# Split data \"species name\n",
    "data2 = data['PathSpecies'].str.split(' ', expand=True).rename(columns={0: 'genus', 1: 'species'})\n",
    "data2 = data2.iloc[:, [0, 1]]\n",
    "# Group by genus and count distinct species\n",
    "data3 = data2.groupby('genus').agg(Species=('species', 'nunique')).reset_index()\n",
    "# Sort by descending species count\n",
    "data3 = data3.sort_values('Species', ascending=False)\n",
    "# Write to CSV\n",
    "data3.to_csv(pd.Timestamp.today().strftime('%Y-%m-%d') +'_phiSlim_genus_no_Species.csv', index=False)"
   ],
   "metadata": {
    "collapsed": false,
    "ExecuteTime": {
     "end_time": "2023-11-24T16:54:27.372627700Z",
     "start_time": "2023-11-24T16:54:27.346076200Z"
    }
   }
  },
  {
   "cell_type": "code",
   "execution_count": 35,
   "outputs": [
    {
     "data": {
      "text/plain": "              genus  Species\n55         fusarium       12\n131   streptococcus       10\n34   colletotrichum       10\n109     pseudomonas        9\n145     xanthomonas        9\n..              ...      ...\n59       grosmannia        1\n57     glaesserella        1\n56   gaeumannomyces        1\n54           fulvia        1\n149    zymoseptoria        1\n\n[150 rows x 2 columns]",
      "text/html": "<div>\n<style scoped>\n    .dataframe tbody tr th:only-of-type {\n        vertical-align: middle;\n    }\n\n    .dataframe tbody tr th {\n        vertical-align: top;\n    }\n\n    .dataframe thead th {\n        text-align: right;\n    }\n</style>\n<table border=\"1\" class=\"dataframe\">\n  <thead>\n    <tr style=\"text-align: right;\">\n      <th></th>\n      <th>genus</th>\n      <th>Species</th>\n    </tr>\n  </thead>\n  <tbody>\n    <tr>\n      <th>55</th>\n      <td>fusarium</td>\n      <td>12</td>\n    </tr>\n    <tr>\n      <th>131</th>\n      <td>streptococcus</td>\n      <td>10</td>\n    </tr>\n    <tr>\n      <th>34</th>\n      <td>colletotrichum</td>\n      <td>10</td>\n    </tr>\n    <tr>\n      <th>109</th>\n      <td>pseudomonas</td>\n      <td>9</td>\n    </tr>\n    <tr>\n      <th>145</th>\n      <td>xanthomonas</td>\n      <td>9</td>\n    </tr>\n    <tr>\n      <th>...</th>\n      <td>...</td>\n      <td>...</td>\n    </tr>\n    <tr>\n      <th>59</th>\n      <td>grosmannia</td>\n      <td>1</td>\n    </tr>\n    <tr>\n      <th>57</th>\n      <td>glaesserella</td>\n      <td>1</td>\n    </tr>\n    <tr>\n      <th>56</th>\n      <td>gaeumannomyces</td>\n      <td>1</td>\n    </tr>\n    <tr>\n      <th>54</th>\n      <td>fulvia</td>\n      <td>1</td>\n    </tr>\n    <tr>\n      <th>149</th>\n      <td>zymoseptoria</td>\n      <td>1</td>\n    </tr>\n  </tbody>\n</table>\n<p>150 rows × 2 columns</p>\n</div>"
     },
     "execution_count": 35,
     "metadata": {},
     "output_type": "execute_result"
    }
   ],
   "source": [
    "data3\n"
   ],
   "metadata": {
    "collapsed": false,
    "ExecuteTime": {
     "end_time": "2023-11-24T16:46:08.274466100Z",
     "start_time": "2023-11-24T16:46:08.249116800Z"
    }
   }
  },
  {
   "cell_type": "code",
   "execution_count": 54,
   "outputs": [],
   "source": [
    "columns = ['PhiAcc', 'PathSpecies', 'ProtId', 'HostSpeciesTaxId', 'Literature_Id', 'DiseaseName']\n",
    "aggregations = {'PhiAcc': 'count', 'PathSpecies': 'nunique', 'ProtId': 'nunique', 'HostSpeciesTaxId': 'nunique', 'Literature_Id': 'nunique', 'DiseaseName': 'nunique'}\n",
    "\n",
    "global_data = phiSlim[columns].agg(aggregations).reset_index()\n",
    "\n"
   ],
   "metadata": {
    "collapsed": false,
    "ExecuteTime": {
     "end_time": "2023-11-24T17:24:08.400630400Z",
     "start_time": "2023-11-24T17:24:08.334093500Z"
    }
   }
  },
  {
   "cell_type": "code",
   "execution_count": 56,
   "outputs": [
    {
     "data": {
      "text/plain": "              index      0\n0            PhiAcc  20951\n1       PathSpecies    286\n2            ProtId   9378\n3  HostSpeciesTaxId    237\n4     Literature_Id   2833\n5       DiseaseName    541",
      "text/html": "<div>\n<style scoped>\n    .dataframe tbody tr th:only-of-type {\n        vertical-align: middle;\n    }\n\n    .dataframe tbody tr th {\n        vertical-align: top;\n    }\n\n    .dataframe thead th {\n        text-align: right;\n    }\n</style>\n<table border=\"1\" class=\"dataframe\">\n  <thead>\n    <tr style=\"text-align: right;\">\n      <th></th>\n      <th>index</th>\n      <th>0</th>\n    </tr>\n  </thead>\n  <tbody>\n    <tr>\n      <th>0</th>\n      <td>PhiAcc</td>\n      <td>20951</td>\n    </tr>\n    <tr>\n      <th>1</th>\n      <td>PathSpecies</td>\n      <td>286</td>\n    </tr>\n    <tr>\n      <th>2</th>\n      <td>ProtId</td>\n      <td>9378</td>\n    </tr>\n    <tr>\n      <th>3</th>\n      <td>HostSpeciesTaxId</td>\n      <td>237</td>\n    </tr>\n    <tr>\n      <th>4</th>\n      <td>Literature_Id</td>\n      <td>2833</td>\n    </tr>\n    <tr>\n      <th>5</th>\n      <td>DiseaseName</td>\n      <td>541</td>\n    </tr>\n  </tbody>\n</table>\n</div>"
     },
     "execution_count": 56,
     "metadata": {},
     "output_type": "execute_result"
    }
   ],
   "source": [
    "global_data"
   ],
   "metadata": {
    "collapsed": false,
    "ExecuteTime": {
     "end_time": "2023-11-24T17:24:17.800518100Z",
     "start_time": "2023-11-24T17:24:17.768488600Z"
    }
   }
  }
 ],
 "metadata": {
  "kernelspec": {
   "display_name": "Python 3",
   "language": "python",
   "name": "python3"
  },
  "language_info": {
   "codemirror_mode": {
    "name": "ipython",
    "version": 2
   },
   "file_extension": ".py",
   "mimetype": "text/x-python",
   "name": "python",
   "nbconvert_exporter": "python",
   "pygments_lexer": "ipython2",
   "version": "2.7.6"
  }
 },
 "nbformat": 4,
 "nbformat_minor": 0
}
