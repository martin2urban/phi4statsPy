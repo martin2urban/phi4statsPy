{
 "cells": [
  {
   "cell_type": "markdown",
   "source": [
    "# Module imports\n"
   ],
   "metadata": {
    "collapsed": false
   }
  },
  {
   "cell_type": "code",
   "execution_count": null,
   "outputs": [],
   "source": [
    "import pandas as pd\n",
    "import numpy as np\n",
    "import matplotlib.pyplot as plt\n",
    "import seaborn as sns\n",
    "import string"
   ],
   "metadata": {
    "collapsed": false
   }
  },
  {
   "cell_type": "markdown",
   "source": [
    "# Functions\n"
   ],
   "metadata": {
    "collapsed": false
   }
  },
  {
   "cell_type": "code",
   "execution_count": null,
   "outputs": [],
   "source": [
    "def prepend_date(filename):\n",
    "    today = pd.Timestamp.today().strftime('%Y-%m-%d')\n",
    "    return today + '_' + filename"
   ],
   "metadata": {
    "collapsed": false
   }
  },
  {
   "cell_type": "markdown",
   "source": [
    "# TASKS:\n",
    "1. Are there 'no data found' or non-printable or non-ASCI characters in the loaded dataframe?\n",
    "2. How to trim string entries to <92 characters?\n",
    "3. How to look up data from csv/excel file and merge them into dataframe? (for Header file and PHI-species file)\n",
    "4. How to report data for certain years or releases? Can you visually display that and how?\n",
    "\n",
    "\n",
    "\n"
   ],
   "metadata": {
    "collapsed": false
   }
  },
  {
   "cell_type": "markdown",
   "source": [
    "# Code"
   ],
   "metadata": {
    "collapsed": false
   }
  },
  {
   "cell_type": "code",
   "execution_count": null,
   "outputs": [],
   "source": [
    "#Read complete data sets:  phiSlim: the complete data set with 30 columns\n",
    "url = \"https://raw.githubusercontent.com/martin2urban/pythonProject1/master/phiSlim30cols.csv\"\n",
    "\n",
    "phiSlim = pd.read_csv(\n",
    "    url,\n",
    "    header=0,\n",
    "    skiprows=[1],\n",
    ")\n",
    "phiSlim.to_csv(('phiSlim.csv'), index=False)\n"
   ],
   "metadata": {
    "collapsed": false
   }
  },
  {
   "cell_type": "code",
   "execution_count": 12,
   "outputs": [
    {
     "data": {
      "text/plain": "           PhiAcc  ProtId              PathSpecies  PathSpeciesTaxID  \\\n0           PHI:3  P26215        Bipolaris zeicola              5017   \n1           PHI:7  P22287             Fulvia fulva              5499   \n2          PHI:12  Q01886        Bipolaris zeicola              5017   \n3          PHI:14  P0C017  Cryptococcus neoformans              5207   \n4          PHI:14  P0C017  Cryptococcus neoformans              5207   \n...           ...     ...                      ...               ...   \n20945  PHI:123548  G4MSA2       Magnaporthe oryzae            318829   \n20946  PHI:123548  G4MSA2       Magnaporthe oryzae            318829   \n20947  PHI:123549  G4MU94       Magnaporthe oryzae            318829   \n20948  PHI:123550  G4NB68       Magnaporthe oryzae            318829   \n20949  PHI:123551  A4QXV8       Magnaporthe oryzae            318829   \n\n      Phenotype     Literature_Id Year_published HostSpeciesTaxId  \n0           NaN               NaN          38476             4577  \n1           NaN               NaN          38476             4081  \n2           NaN               NaN          38476             4577  \n3           NaN               NaN          38476             6239  \n4           NaN               NaN          38476             9986  \n...         ...               ...            ...              ...  \n20945       NaN  xhliu@zju.edu.cn         22-Oct             4530  \n20946       NaN  xhliu@zju.edu.cn         22-Oct             4513  \n20947       NaN  xhliu@zju.edu.cn         22-Oct             4513  \n20948       NaN  xhliu@zju.edu.cn         22-Oct             4513  \n20949       NaN  xhliu@zju.edu.cn         22-Oct             4513  \n\n[20950 rows x 8 columns]",
      "text/html": "<div>\n<style scoped>\n    .dataframe tbody tr th:only-of-type {\n        vertical-align: middle;\n    }\n\n    .dataframe tbody tr th {\n        vertical-align: top;\n    }\n\n    .dataframe thead th {\n        text-align: right;\n    }\n</style>\n<table border=\"1\" class=\"dataframe\">\n  <thead>\n    <tr style=\"text-align: right;\">\n      <th></th>\n      <th>PhiAcc</th>\n      <th>ProtId</th>\n      <th>PathSpecies</th>\n      <th>PathSpeciesTaxID</th>\n      <th>Phenotype</th>\n      <th>Literature_Id</th>\n      <th>Year_published</th>\n      <th>HostSpeciesTaxId</th>\n    </tr>\n  </thead>\n  <tbody>\n    <tr>\n      <th>0</th>\n      <td>PHI:3</td>\n      <td>P26215</td>\n      <td>Bipolaris zeicola</td>\n      <td>5017</td>\n      <td>NaN</td>\n      <td>NaN</td>\n      <td>38476</td>\n      <td>4577</td>\n    </tr>\n    <tr>\n      <th>1</th>\n      <td>PHI:7</td>\n      <td>P22287</td>\n      <td>Fulvia fulva</td>\n      <td>5499</td>\n      <td>NaN</td>\n      <td>NaN</td>\n      <td>38476</td>\n      <td>4081</td>\n    </tr>\n    <tr>\n      <th>2</th>\n      <td>PHI:12</td>\n      <td>Q01886</td>\n      <td>Bipolaris zeicola</td>\n      <td>5017</td>\n      <td>NaN</td>\n      <td>NaN</td>\n      <td>38476</td>\n      <td>4577</td>\n    </tr>\n    <tr>\n      <th>3</th>\n      <td>PHI:14</td>\n      <td>P0C017</td>\n      <td>Cryptococcus neoformans</td>\n      <td>5207</td>\n      <td>NaN</td>\n      <td>NaN</td>\n      <td>38476</td>\n      <td>6239</td>\n    </tr>\n    <tr>\n      <th>4</th>\n      <td>PHI:14</td>\n      <td>P0C017</td>\n      <td>Cryptococcus neoformans</td>\n      <td>5207</td>\n      <td>NaN</td>\n      <td>NaN</td>\n      <td>38476</td>\n      <td>9986</td>\n    </tr>\n    <tr>\n      <th>...</th>\n      <td>...</td>\n      <td>...</td>\n      <td>...</td>\n      <td>...</td>\n      <td>...</td>\n      <td>...</td>\n      <td>...</td>\n      <td>...</td>\n    </tr>\n    <tr>\n      <th>20945</th>\n      <td>PHI:123548</td>\n      <td>G4MSA2</td>\n      <td>Magnaporthe oryzae</td>\n      <td>318829</td>\n      <td>NaN</td>\n      <td>xhliu@zju.edu.cn</td>\n      <td>22-Oct</td>\n      <td>4530</td>\n    </tr>\n    <tr>\n      <th>20946</th>\n      <td>PHI:123548</td>\n      <td>G4MSA2</td>\n      <td>Magnaporthe oryzae</td>\n      <td>318829</td>\n      <td>NaN</td>\n      <td>xhliu@zju.edu.cn</td>\n      <td>22-Oct</td>\n      <td>4513</td>\n    </tr>\n    <tr>\n      <th>20947</th>\n      <td>PHI:123549</td>\n      <td>G4MU94</td>\n      <td>Magnaporthe oryzae</td>\n      <td>318829</td>\n      <td>NaN</td>\n      <td>xhliu@zju.edu.cn</td>\n      <td>22-Oct</td>\n      <td>4513</td>\n    </tr>\n    <tr>\n      <th>20948</th>\n      <td>PHI:123550</td>\n      <td>G4NB68</td>\n      <td>Magnaporthe oryzae</td>\n      <td>318829</td>\n      <td>NaN</td>\n      <td>xhliu@zju.edu.cn</td>\n      <td>22-Oct</td>\n      <td>4513</td>\n    </tr>\n    <tr>\n      <th>20949</th>\n      <td>PHI:123551</td>\n      <td>A4QXV8</td>\n      <td>Magnaporthe oryzae</td>\n      <td>318829</td>\n      <td>NaN</td>\n      <td>xhliu@zju.edu.cn</td>\n      <td>22-Oct</td>\n      <td>4513</td>\n    </tr>\n  </tbody>\n</table>\n<p>20950 rows × 8 columns</p>\n</div>"
     },
     "execution_count": 12,
     "metadata": {},
     "output_type": "execute_result"
    }
   ],
   "source": [
    "# Make subset of phiSlim dataset for training\n",
    "column_names= ['PhiAcc', 'ProtId', 'PathSpecies', 'PathSpeciesTaxID', 'Phenotype', 'Literature_Id', 'Year_published', 'HostSpeciesTaxId']\n",
    "\n",
    "cols = phiSlim[column_names].copy()\n",
    "cols\n",
    "\n",
    "\n"
   ],
   "metadata": {
    "collapsed": false,
    "ExecuteTime": {
     "end_time": "2023-11-27T08:37:52.654806700Z",
     "start_time": "2023-11-27T08:37:52.621474800Z"
    }
   }
  },
  {
   "cell_type": "code",
   "execution_count": null,
   "outputs": [],
   "source": [],
   "metadata": {
    "collapsed": false
   }
  },
  {
   "cell_type": "markdown",
   "source": [],
   "metadata": {
    "collapsed": false
   }
  },
  {
   "cell_type": "code",
   "execution_count": null,
   "outputs": [],
   "source": [
    "phiSlim.columns"
   ],
   "metadata": {
    "collapsed": false
   }
  },
  {
   "cell_type": "code",
   "execution_count": null,
   "outputs": [],
   "source": [
    "my_types = {\n",
    "    \"PhiAcc\": str,\n",
    "    \"ProtId\": str,\n",
    "    \"PathSpecies\": str,\n",
    "    \"PathSpeciesTaxID\": 'Int64',\n",
    "}\n",
    "\n",
    "phi2 = pd.read_csv(\n",
    "    \"4cols.csv\",\n",
    "    dtype=my_types,\n",
    "    header=0\n",
    ")\n",
    "print(phi2.columns)\n",
    "phi2.describe(include='all')\n",
    "phi2.info()"
   ],
   "metadata": {
    "collapsed": false
   }
  },
  {
   "cell_type": "code",
   "execution_count": null,
   "outputs": [],
   "source": [
    "#How do I convert the columns 'PhiAcc', 'ProtId', 'PathSpecies', 'PathSpeciesTaxID' to strings?\n",
    "#\n",
    "columns = ['PhiAcc', 'ProtId', 'PathSpecies', 'PathSpeciesTaxID']\n",
    "non_string_values_per_column = {}\n",
    "for column in phi2.columns:\n",
    "    non_string_values = set(phi2[column].astype(str).str.findall(r'[^a-zA-Z\\s\\d:]').sum())\n",
    "    non_string_values_per_column[column] = non_string_values\n",
    "\n",
    "for column, non_string_values in non_string_values_per_column.items():\n",
    "    print(f\"Non-string values in column '{column}':\")\n",
    "    for value in non_string_values:\n",
    "        print(value)\n",
    "    print()\n",
    "\n",
    "\n"
   ],
   "metadata": {
    "collapsed": false
   }
  },
  {
   "cell_type": "code",
   "execution_count": null,
   "outputs": [],
   "source": [
    "#STOP\n"
   ],
   "metadata": {
    "collapsed": false
   }
  },
  {
   "cell_type": "code",
   "execution_count": null,
   "outputs": [],
   "source": [
    "# SNIPPETS\n",
    "columns= ['PhiAcc', 'ProtId', 'PathSpecies', 'PathSpeciesTaxID', 'Phenotype']\n",
    "#phi[columns] = phi[columns].apply(lambda x: x.str.strip())\n",
    "phi.to_csv(prepend_date('4cols.csv'), '4cols.csv', index=False)"
   ],
   "metadata": {
    "collapsed": false
   }
  },
  {
   "cell_type": "code",
   "execution_count": null,
   "outputs": [],
   "source": [
    "# make stats-counts report\n",
    "# tabulate tally: specis x genes x interactions\n",
    "# Group by 'PathSpecies' and calculate distinct 'PhiAcc' count and count of rows\n",
    "data = phiSlim.groupby('PathSpecies').agg({'PhiAcc': 'nunique', 'PathSpecies': 'size'}).rename(columns={'PhiAcc': 'genes', 'PathSpecies': 'PHI.base.accession'}).reset_index()\n",
    "\n",
    "# Sort the DataFrame by 'PHI.base.accession' in descending order\n",
    "data = data.sort_values('PHI.base.accession', ascending=False)\n",
    "\n",
    "# Rename 'PHI.base.accession' column to 'interactions'\n",
    "data = data.rename(columns={'PHI.base.accession': 'interactions'})\n",
    "\n",
    "# Write the DataFrame to a CSV file\n",
    "data.to_csv(pd.Timestamp.today().strftime('%Y-%m-%d') +\"phiSlim_speciesBYpathogen_geneBYinteraction_tally.csv\", index=False, na_rep=\"\")\n"
   ],
   "metadata": {
    "collapsed": false
   }
  },
  {
   "cell_type": "code",
   "execution_count": null,
   "outputs": [],
   "source": [
    "data.info()"
   ],
   "metadata": {
    "collapsed": false
   }
  },
  {
   "cell_type": "code",
   "execution_count": null,
   "outputs": [],
   "source": [
    "# tabulate tally: genus x genes x interactions\n",
    "# Split data \"species name\n",
    "data2 = data['PathSpecies'].str.split(' ', expand=True).rename(columns={0: 'genus', 1: 'species'})\n",
    "data2 = data2.iloc[:, [0, 1]]\n",
    "# Group by genus and count distinct species\n",
    "data3 = data2.groupby('genus').agg(Species=('species', 'nunique')).reset_index()\n",
    "# Sort by descending species count\n",
    "data3 = data3.sort_values('Species', ascending=False)\n",
    "# Write to CSV\n",
    "data3.to_csv(pd.Timestamp.today().strftime('%Y-%m-%d') +'_phiSlim_genus_no_Species.csv', index=False)"
   ],
   "metadata": {
    "collapsed": false
   }
  },
  {
   "cell_type": "code",
   "execution_count": null,
   "outputs": [],
   "source": [
    "data3\n"
   ],
   "metadata": {
    "collapsed": false
   }
  },
  {
   "cell_type": "code",
   "execution_count": null,
   "outputs": [],
   "source": [
    "columns = ['PhiAcc', 'PathSpecies', 'ProtId', 'HostSpeciesTaxId', 'Literature_Id', 'DiseaseName']\n",
    "aggregations = {'PhiAcc': 'count', 'PathSpecies': 'nunique', 'ProtId': 'nunique', 'HostSpeciesTaxId': 'nunique', 'Literature_Id': 'nunique', 'DiseaseName': 'nunique'}\n",
    "\n",
    "global_data = phiSlim[columns].agg(aggregations).reset_index()\n",
    "\n"
   ],
   "metadata": {
    "collapsed": false
   }
  },
  {
   "cell_type": "code",
   "execution_count": null,
   "outputs": [],
   "source": [
    "global_data.describe()"
   ],
   "metadata": {
    "collapsed": false
   }
  },
  {
   "cell_type": "code",
   "execution_count": null,
   "outputs": [],
   "source": [
    "phiSlim['DiseaseName'].nunique()\n",
    "phiSlim['Phenotype'].nunique()\n",
    "phiSlim['Phenotype'].astype('category').describe()\n",
    "phiSlim['Phenotype'].info()\n"
   ],
   "metadata": {
    "collapsed": false
   }
  },
  {
   "cell_type": "code",
   "execution_count": null,
   "outputs": [],
   "source": [
    "url = \"https://raw.githubusercontent.com/martin2urban/pythonProject1/master/phiSlim30cols.csv\"\n",
    "columns= ['PhiAcc', 'ProtId', 'PathSpecies', 'PathSpeciesTaxID', 'Phenotype']\n",
    "my_types = {\n",
    "    \"PhiAcc\": str,\n",
    "    'Phenotype': str\n",
    "#   \"ProtId\": str,\n",
    "#   \"PathSpecies\": str,\n",
    "#  \"PathSpeciesTaxID\": int,\n",
    "\n",
    "}\n",
    "phi2 = pd.read_csv(\n",
    "    \"phiSlim30cols.csv\",\n",
    "    usecols=columns,\n",
    "    dtype=my_types,\n",
    "    header=0,\n",
    "    skiprows=0,\n",
    ")\n",
    "phi2['Phenotype'] = phi2['Phenotype'].astype('category')"
   ],
   "metadata": {
    "collapsed": false
   }
  },
  {
   "cell_type": "code",
   "execution_count": null,
   "outputs": [],
   "source": [
    "phi2.info()\n",
    "phi2['PhiAcc'].dtype"
   ],
   "metadata": {
    "collapsed": false
   }
  },
  {
   "cell_type": "code",
   "execution_count": null,
   "outputs": [],
   "source": [
    "phi3 = phi2.loc[phi2['PhiAcc'].apply(lambda x: isinstance(x, str))]\n",
    "phi3['PhiAcc'] = phi2['PhiAcc'].astype('str')\n",
    "phi3\n"
   ],
   "metadata": {
    "collapsed": false
   }
  },
  {
   "cell_type": "code",
   "execution_count": null,
   "outputs": [],
   "source": [
    "# Function to filter out non-ASCII and non-printable characters\n",
    "def filter_ascii_printable(text):\n",
    "    printable_chars = set(string.printable)\n",
    "    return ''.join(filter(lambda x: x in printable_chars, text))\n",
    "\n",
    "# Apply the filter_ascii_printable function to the 'PhiAcc' column\n",
    "phi3['PhiAcc'] = phi3['PhiAcc'].apply(filter_ascii_printable).astype(str)\n",
    "phi3['PhiAcc'].dtype"
   ],
   "metadata": {
    "collapsed": false
   }
  },
  {
   "cell_type": "code",
   "execution_count": null,
   "outputs": [],
   "source": [
    "unique_types = phi3['PhiAcc'].apply(type).unique()\n",
    "print(unique_types)\n",
    "phi3['PhiAcc'] = phi3['PhiAcc'].astype(object).astype(str)\n",
    "phi3['PhiAcc'].dtype"
   ],
   "metadata": {
    "collapsed": false
   }
  },
  {
   "cell_type": "markdown",
   "source": [
    "### phi2  dataframe has four columns only for training:\n",
    "Index(['PhiAcc', 'ProtId', 'PathSpeciesTaxID', 'PathSpecies', 'Phenotype'], dtype='object')"
   ],
   "metadata": {
    "collapsed": false
   }
  },
  {
   "cell_type": "code",
   "execution_count": null,
   "outputs": [],
   "source": [
    "phi2.columns"
   ],
   "metadata": {
    "collapsed": false
   }
  },
  {
   "cell_type": "markdown",
   "source": [
    "# Tally pathogens with most interactions and select the top30\n"
   ],
   "metadata": {
    "collapsed": false
   }
  },
  {
   "cell_type": "code",
   "execution_count": null,
   "outputs": [],
   "source": [
    "#This code groups the phi DataFrame by the 'PathSpecies' column, counts the occurrences of each 'PathSpecies' value using size(), and then sorts the result in descending order using sort_values().\n",
    "tally = phi2.groupby('PathSpecies').size().reset_index(name='n')\n",
    "top30 = tally.sort_values(by='n', ascending=False).head(30).reset_index(drop=True)\n",
    "top30.index = top30.index + 1\n",
    "top30"
   ],
   "metadata": {
    "collapsed": false
   }
  },
  {
   "cell_type": "code",
   "execution_count": null,
   "outputs": [],
   "source": [
    "# Tally all pathogens and  interactions and save csv file: phi_tally_all_pathog&interact,csv\n",
    "tally = phi2.groupby('PathSpecies').size().reset_index(name='n')\n",
    "tally.index = tally.index + 1\n",
    "tally_to_csv = tally.to_csv(prepend_date('phi_tally_all_pathog&interact.csv'))\n"
   ],
   "metadata": {
    "collapsed": false
   }
  },
  {
   "cell_type": "code",
   "execution_count": null,
   "outputs": [],
   "source": [
    "phi2.groupby(\"PathSpecies\").agg(\n",
    "    n_interactions=(\"PhiAcc\", \"count\"),\n",
    "    #need to make my own aggegation functon for nunique\n",
    "    n_proteins=(\"ProtId\", lambda x: x.nunique())\n",
    ").reset_index()"
   ],
   "metadata": {
    "collapsed": false
   }
  },
  {
   "cell_type": "code",
   "execution_count": null,
   "outputs": [],
   "source": [],
   "metadata": {
    "collapsed": false
   }
  }
 ],
 "metadata": {
  "kernelspec": {
   "display_name": "Python 3",
   "language": "python",
   "name": "python3"
  },
  "language_info": {
   "codemirror_mode": {
    "name": "ipython",
    "version": 2
   },
   "file_extension": ".py",
   "mimetype": "text/x-python",
   "name": "python",
   "nbconvert_exporter": "python",
   "pygments_lexer": "ipython2",
   "version": "2.7.6"
  }
 },
 "nbformat": 4,
 "nbformat_minor": 0
}
