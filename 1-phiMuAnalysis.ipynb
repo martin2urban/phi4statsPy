{
 "cells": [
  {
   "cell_type": "code",
   "execution_count": null,
   "metadata": {
    "collapsed": true
   },
   "outputs": [],
   "source": [
    "import pandas as pd\n",
    "import numpy as np\n",
    "import matplotlib.pyplot as plt\n",
    "import seaborn as sns"
   ]
  },
  {
   "cell_type": "code",
   "execution_count": null,
   "outputs": [],
   "source": [
    "url = \"https://raw.githubusercontent.com/martin2urban/pythonProject1/master/phiSlim30cols.csv\"\n",
    "columns= ['PhiAcc', 'ProtId', 'PathSpecies', 'PathSpeciesTaxID']\n",
    "my_types = {\n",
    "    \"PhiAcc\": str,\n",
    "#   \"ProtId\": str,\n",
    "#   \"PathSpecies\": str,\n",
    "#  \"PathSpeciesTaxID\": int,\n",
    "\n",
    "}\n",
    "phi2 = pd.read_csv(\n",
    "    \"phiSlim30cols.csv\",\n",
    "    usecols=columns,\n",
    "#    dtype=my_types,\n",
    "    header=0,\n",
    ")\n",
    "print(phi2.columns)\n",
    "phi2.describe(include='all')"
   ],
   "metadata": {
    "collapsed": false
   }
  },
  {
   "cell_type": "code",
   "execution_count": null,
   "outputs": [],
   "source": [
    "#How do I convert the columns 'PhiAcc', 'ProtId', 'PathSpecies', 'PathSpeciesTaxID' to strings?\n",
    "#\n",
    "columns = ['PhiAcc', 'ProtId', 'PathSpecies', 'PathSpeciesTaxID']\n",
    "non_string_values_per_column = {}\n",
    "for column in phi2.columns:\n",
    "    non_string_values = set(phi2[column].astype(str).str.findall(r'[^a-zA-Z\\s\\d:]').sum())\n",
    "    non_string_values_per_column[column] = non_string_values\n",
    "\n",
    "for column, non_string_values in non_string_values_per_column.items():\n",
    "    print(f\"Non-string values in column '{column}':\")\n",
    "    for value in non_string_values:\n",
    "        print(value)\n",
    "    print()\n",
    "\n"
   ],
   "metadata": {
    "collapsed": false
   }
  },
  {
   "cell_type": "code",
   "execution_count": null,
   "outputs": [],
   "source": [
    "url = \"https://raw.githubusercontent.com/martin2urban/pythonProject1/master/phiSlim30cols.csv\"\n",
    "columns= ['PhiAcc', 'ProtId', 'PathSpecies', 'PathSpeciesTaxID']\n",
    "my_types = {\n",
    "    \"PhiAcc\": str,\n",
    "#   \"ProtId\": str,\n",
    "#   \"PathSpecies\": str,\n",
    "#  \"PathSpeciesTaxID\": int,\n",
    "\n",
    "}\n",
    "phi2 = pd.read_csv(\n",
    "    \"phiSlim30cols.csv\",\n",
    "    usecols=columns,\n",
    "#    dtype=my_types,\n",
    "    header=0,\n",
    ")"
   ],
   "metadata": {
    "collapsed": false
   }
  },
  {
   "cell_type": "code",
   "execution_count": null,
   "outputs": [],
   "source": [
    "phiSlim = pd.read_csv('phiSlim30cols.csv', header=0)\n",
    "phiSlim.describe()"
   ],
   "metadata": {
    "collapsed": false
   }
  },
  {
   "cell_type": "code",
   "execution_count": null,
   "outputs": [],
   "source": [
    "# tranform all string data in phiSlim to lowercase\n",
    "phiSlim = phiSlim.applymap(lambda x: x.lower() if isinstance(x, str) else x)\n",
    "phiSlim\n"
   ],
   "metadata": {
    "collapsed": false
   }
  },
  {
   "cell_type": "code",
   "execution_count": null,
   "outputs": [],
   "source": [
    "# make stats-counts report\n",
    "# tabulate tally: specis x genes x interactions\n",
    "# Group by 'PathSpecies' and calculate distinct 'PhiAcc' count and count of rows\n",
    "data = phiSlim.groupby('PathSpecies').agg({'PhiAcc': 'nunique', 'PathSpecies': 'size'}).rename(columns={'PhiAcc': 'genes', 'PathSpecies': 'PHI.base.accession'}).reset_index()\n",
    "\n",
    "# Sort the DataFrame by 'PHI.base.accession' in descending order\n",
    "data = data.sort_values('PHI.base.accession', ascending=False)\n",
    "\n",
    "# Rename 'PHI.base.accession' column to 'interactions'\n",
    "data = data.rename(columns={'PHI.base.accession': 'interactions'})\n",
    "\n",
    "# Write the DataFrame to a CSV file\n",
    "data.to_csv(pd.Timestamp.today().strftime('%Y-%m-%d') +\"phiSlim_speciesBYpathogen_geneBYinteraction_tally.csv\", index=False, na_rep=\"\")\n"
   ],
   "metadata": {
    "collapsed": false
   }
  },
  {
   "cell_type": "code",
   "execution_count": null,
   "outputs": [],
   "source": [
    "data.info()"
   ],
   "metadata": {
    "collapsed": false
   }
  },
  {
   "cell_type": "code",
   "execution_count": null,
   "outputs": [],
   "source": [
    "data2\n"
   ],
   "metadata": {
    "collapsed": false
   }
  },
  {
   "cell_type": "code",
   "execution_count": null,
   "outputs": [],
   "source": [
    "# tabulate tally: genus x genes x interactions\n",
    "# Split data \"species name\n",
    "data2 = data['PathSpecies'].str.split(' ', expand=True).rename(columns={0: 'genus', 1: 'species'})\n",
    "data2 = data2.iloc[:, [0, 1]]\n",
    "# Group by genus and count distinct species\n",
    "data3 = data2.groupby('genus').agg(Species=('species', 'nunique')).reset_index()\n",
    "# Sort by descending species count\n",
    "data3 = data3.sort_values('Species', ascending=False)\n",
    "# Write to CSV\n",
    "data3.to_csv(pd.Timestamp.today().strftime('%Y-%m-%d') +'_phiSlim_genus_no_Species.csv', index=False)"
   ],
   "metadata": {
    "collapsed": false
   }
  },
  {
   "cell_type": "code",
   "execution_count": null,
   "outputs": [],
   "source": [
    "data3\n"
   ],
   "metadata": {
    "collapsed": false
   }
  },
  {
   "cell_type": "code",
   "execution_count": null,
   "outputs": [],
   "source": [
    "columns = ['PhiAcc', 'PathSpecies', 'ProtId', 'HostSpeciesTaxId', 'Literature_Id', 'DiseaseName']\n",
    "aggregations = {'PhiAcc': 'count', 'PathSpecies': 'nunique', 'ProtId': 'nunique', 'HostSpeciesTaxId': 'nunique', 'Literature_Id': 'nunique', 'DiseaseName': 'nunique'}\n",
    "\n",
    "global_data = phiSlim[columns].agg(aggregations).reset_index()\n",
    "\n"
   ],
   "metadata": {
    "collapsed": false
   }
  },
  {
   "cell_type": "code",
   "execution_count": null,
   "outputs": [],
   "source": [
    "global_data.describe()"
   ],
   "metadata": {
    "collapsed": false
   }
  }
 ],
 "metadata": {
  "kernelspec": {
   "display_name": "Python 3",
   "language": "python",
   "name": "python3"
  },
  "language_info": {
   "codemirror_mode": {
    "name": "ipython",
    "version": 2
   },
   "file_extension": ".py",
   "mimetype": "text/x-python",
   "name": "python",
   "nbconvert_exporter": "python",
   "pygments_lexer": "ipython2",
   "version": "2.7.6"
  }
 },
 "nbformat": 4,
 "nbformat_minor": 0
}
